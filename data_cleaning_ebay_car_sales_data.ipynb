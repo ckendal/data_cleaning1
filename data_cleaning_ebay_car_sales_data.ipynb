{
 "cells": [
  {
   "cell_type": "markdown",
   "metadata": {},
   "source": [
    "# Data Cleaning: Exploring Ebay Car Sales Data\n",
    "The goal of this project is to clean and analyze a dataset of used cars from classifieds section of the German eBay website.\n",
    "\n",
    "This project is a part of the Dataquest.io Data Scientist course.\n",
    "\n",
    "## Data Source\n",
    "The original dataset was scraped and uploaded to Kaggle. The data we will use for this analysis is a subset of 50,000 data points from the full set.  Furthermore, Dataquest has dirtied the sample dataset so that we can practice data-cleaning.\n",
    "\n",
    "## Data Description\n",
    "The dataset contains the following attributes:\n",
    "- **dateCrawled** - When the ad was originally crawled.\n",
    "- **name** - Name of the car.\n",
    "- **seller** - Private seller or dealer.\n",
    "- **offerType** - Type of listing.\n",
    "- **price** - Advertised price of the car.\n",
    "- **abtest** - Whether the listing is included in an A/B test.\n",
    "- **vehicleType** - The vehicle Type.\n",
    "- **yearOfRegistration** - Year in which the car was first registered.\n",
    "- **gearbox** - Transmission type.\n",
    "- **powerPS** - The power of the car measured in PS.\n",
    "- **model** - Car model name.\n",
    "- **odometer** - How many kilometers the car has driven.\n",
    "- **monthOfRegistration** - Month in which the war was first registered.\n",
    "- **fuelType** - Type of fuel the car uses.\n",
    "- **brand** - Brand of car.\n",
    "- **notRepairedDamage** - Whether the car has damage which is not yet repaired.\n",
    "- **dateCreated** - Date on which the eBay listing was created.\n",
    "- **nrOfPictures** - Number of pictures in the ad.\n",
    "- **postalCode** - The postal code for the location of the vehicle.\n",
    "- **lastSeenOnline** - When the crawler last saw this ad online.\n",
    "\n",
    "## Import Python libararies and dataset\n",
    "First let's import the Pandas and NumPy libaries which we will use to manipulate and analyze the data.  Then we will import the CSV dataset as a Pandas Dataframe."
   ]
  },
  {
   "cell_type": "code",
   "execution_count": 1,
   "metadata": {
    "collapsed": true
   },
   "outputs": [],
   "source": [
    "import pandas as pd\n",
    "import numpy as np"
   ]
  },
  {
   "cell_type": "code",
   "execution_count": 2,
   "metadata": {
    "collapsed": false
   },
   "outputs": [],
   "source": [
    "# This cell is commented out so that 'run-all cells' can work\n",
    "# autos = pd.read_csv(\"autos.csv\")"
   ]
  },
  {
   "cell_type": "markdown",
   "metadata": {},
   "source": [
    "Here we encounter our first challenge, the code as-is in the cell above returns an encoding error:\n",
    "\n",
    ">UnicodeDecodeError: 'utf-8' codec can't decode byte 0xdc in position 23: invalid continuation byte\n",
    "\n",
    "If you want to see for yourself, download this notebook, remove the # and try to run that cell.\n",
    "\n",
    "The default encoding for pandas.read_csv is UTF-8. Since this does not work, let's try the next two most frequent encodings Latin-1 and Windows-1252."
   ]
  },
  {
   "cell_type": "code",
   "execution_count": 3,
   "metadata": {
    "collapsed": false
   },
   "outputs": [],
   "source": [
    "autos = pd.read_csv(\"autos.csv\", encoding=\"Latin-1\")"
   ]
  },
  {
   "cell_type": "markdown",
   "metadata": {},
   "source": [
    "When we try \"Latin-1\" encoding, the code executes without errors.  Let's take a look at the first few rows and some summary info about our dataset."
   ]
  },
  {
   "cell_type": "code",
   "execution_count": 4,
   "metadata": {
    "collapsed": false,
    "scrolled": true
   },
   "outputs": [
    {
     "data": {
      "text/html": [
       "<div>\n",
       "<style scoped>\n",
       "    .dataframe tbody tr th:only-of-type {\n",
       "        vertical-align: middle;\n",
       "    }\n",
       "\n",
       "    .dataframe tbody tr th {\n",
       "        vertical-align: top;\n",
       "    }\n",
       "\n",
       "    .dataframe thead th {\n",
       "        text-align: right;\n",
       "    }\n",
       "</style>\n",
       "<table border=\"1\" class=\"dataframe\">\n",
       "  <thead>\n",
       "    <tr style=\"text-align: right;\">\n",
       "      <th></th>\n",
       "      <th>dateCrawled</th>\n",
       "      <th>name</th>\n",
       "      <th>seller</th>\n",
       "      <th>offerType</th>\n",
       "      <th>price</th>\n",
       "      <th>abtest</th>\n",
       "      <th>vehicleType</th>\n",
       "      <th>yearOfRegistration</th>\n",
       "      <th>gearbox</th>\n",
       "      <th>powerPS</th>\n",
       "      <th>model</th>\n",
       "      <th>odometer</th>\n",
       "      <th>monthOfRegistration</th>\n",
       "      <th>fuelType</th>\n",
       "      <th>brand</th>\n",
       "      <th>notRepairedDamage</th>\n",
       "      <th>dateCreated</th>\n",
       "      <th>nrOfPictures</th>\n",
       "      <th>postalCode</th>\n",
       "      <th>lastSeen</th>\n",
       "    </tr>\n",
       "  </thead>\n",
       "  <tbody>\n",
       "    <tr>\n",
       "      <th>0</th>\n",
       "      <td>2016-03-26 17:47:46</td>\n",
       "      <td>Peugeot_807_160_NAVTECH_ON_BOARD</td>\n",
       "      <td>privat</td>\n",
       "      <td>Angebot</td>\n",
       "      <td>$5,000</td>\n",
       "      <td>control</td>\n",
       "      <td>bus</td>\n",
       "      <td>2004</td>\n",
       "      <td>manuell</td>\n",
       "      <td>158</td>\n",
       "      <td>andere</td>\n",
       "      <td>150,000km</td>\n",
       "      <td>3</td>\n",
       "      <td>lpg</td>\n",
       "      <td>peugeot</td>\n",
       "      <td>nein</td>\n",
       "      <td>2016-03-26 00:00:00</td>\n",
       "      <td>0</td>\n",
       "      <td>79588</td>\n",
       "      <td>2016-04-06 06:45:54</td>\n",
       "    </tr>\n",
       "    <tr>\n",
       "      <th>1</th>\n",
       "      <td>2016-04-04 13:38:56</td>\n",
       "      <td>BMW_740i_4_4_Liter_HAMANN_UMBAU_Mega_Optik</td>\n",
       "      <td>privat</td>\n",
       "      <td>Angebot</td>\n",
       "      <td>$8,500</td>\n",
       "      <td>control</td>\n",
       "      <td>limousine</td>\n",
       "      <td>1997</td>\n",
       "      <td>automatik</td>\n",
       "      <td>286</td>\n",
       "      <td>7er</td>\n",
       "      <td>150,000km</td>\n",
       "      <td>6</td>\n",
       "      <td>benzin</td>\n",
       "      <td>bmw</td>\n",
       "      <td>nein</td>\n",
       "      <td>2016-04-04 00:00:00</td>\n",
       "      <td>0</td>\n",
       "      <td>71034</td>\n",
       "      <td>2016-04-06 14:45:08</td>\n",
       "    </tr>\n",
       "    <tr>\n",
       "      <th>2</th>\n",
       "      <td>2016-03-26 18:57:24</td>\n",
       "      <td>Volkswagen_Golf_1.6_United</td>\n",
       "      <td>privat</td>\n",
       "      <td>Angebot</td>\n",
       "      <td>$8,990</td>\n",
       "      <td>test</td>\n",
       "      <td>limousine</td>\n",
       "      <td>2009</td>\n",
       "      <td>manuell</td>\n",
       "      <td>102</td>\n",
       "      <td>golf</td>\n",
       "      <td>70,000km</td>\n",
       "      <td>7</td>\n",
       "      <td>benzin</td>\n",
       "      <td>volkswagen</td>\n",
       "      <td>nein</td>\n",
       "      <td>2016-03-26 00:00:00</td>\n",
       "      <td>0</td>\n",
       "      <td>35394</td>\n",
       "      <td>2016-04-06 20:15:37</td>\n",
       "    </tr>\n",
       "    <tr>\n",
       "      <th>3</th>\n",
       "      <td>2016-03-12 16:58:10</td>\n",
       "      <td>Smart_smart_fortwo_coupe_softouch/F1/Klima/Pan...</td>\n",
       "      <td>privat</td>\n",
       "      <td>Angebot</td>\n",
       "      <td>$4,350</td>\n",
       "      <td>control</td>\n",
       "      <td>kleinwagen</td>\n",
       "      <td>2007</td>\n",
       "      <td>automatik</td>\n",
       "      <td>71</td>\n",
       "      <td>fortwo</td>\n",
       "      <td>70,000km</td>\n",
       "      <td>6</td>\n",
       "      <td>benzin</td>\n",
       "      <td>smart</td>\n",
       "      <td>nein</td>\n",
       "      <td>2016-03-12 00:00:00</td>\n",
       "      <td>0</td>\n",
       "      <td>33729</td>\n",
       "      <td>2016-03-15 03:16:28</td>\n",
       "    </tr>\n",
       "    <tr>\n",
       "      <th>4</th>\n",
       "      <td>2016-04-01 14:38:50</td>\n",
       "      <td>Ford_Focus_1_6_Benzin_TÜV_neu_ist_sehr_gepfleg...</td>\n",
       "      <td>privat</td>\n",
       "      <td>Angebot</td>\n",
       "      <td>$1,350</td>\n",
       "      <td>test</td>\n",
       "      <td>kombi</td>\n",
       "      <td>2003</td>\n",
       "      <td>manuell</td>\n",
       "      <td>0</td>\n",
       "      <td>focus</td>\n",
       "      <td>150,000km</td>\n",
       "      <td>7</td>\n",
       "      <td>benzin</td>\n",
       "      <td>ford</td>\n",
       "      <td>nein</td>\n",
       "      <td>2016-04-01 00:00:00</td>\n",
       "      <td>0</td>\n",
       "      <td>39218</td>\n",
       "      <td>2016-04-01 14:38:50</td>\n",
       "    </tr>\n",
       "  </tbody>\n",
       "</table>\n",
       "</div>"
      ],
      "text/plain": [
       "           dateCrawled                                               name  \\\n",
       "0  2016-03-26 17:47:46                   Peugeot_807_160_NAVTECH_ON_BOARD   \n",
       "1  2016-04-04 13:38:56         BMW_740i_4_4_Liter_HAMANN_UMBAU_Mega_Optik   \n",
       "2  2016-03-26 18:57:24                         Volkswagen_Golf_1.6_United   \n",
       "3  2016-03-12 16:58:10  Smart_smart_fortwo_coupe_softouch/F1/Klima/Pan...   \n",
       "4  2016-04-01 14:38:50  Ford_Focus_1_6_Benzin_TÜV_neu_ist_sehr_gepfleg...   \n",
       "\n",
       "   seller offerType   price   abtest vehicleType  yearOfRegistration  \\\n",
       "0  privat   Angebot  $5,000  control         bus                2004   \n",
       "1  privat   Angebot  $8,500  control   limousine                1997   \n",
       "2  privat   Angebot  $8,990     test   limousine                2009   \n",
       "3  privat   Angebot  $4,350  control  kleinwagen                2007   \n",
       "4  privat   Angebot  $1,350     test       kombi                2003   \n",
       "\n",
       "     gearbox  powerPS   model   odometer  monthOfRegistration fuelType  \\\n",
       "0    manuell      158  andere  150,000km                    3      lpg   \n",
       "1  automatik      286     7er  150,000km                    6   benzin   \n",
       "2    manuell      102    golf   70,000km                    7   benzin   \n",
       "3  automatik       71  fortwo   70,000km                    6   benzin   \n",
       "4    manuell        0   focus  150,000km                    7   benzin   \n",
       "\n",
       "        brand notRepairedDamage          dateCreated  nrOfPictures  \\\n",
       "0     peugeot              nein  2016-03-26 00:00:00             0   \n",
       "1         bmw              nein  2016-04-04 00:00:00             0   \n",
       "2  volkswagen              nein  2016-03-26 00:00:00             0   \n",
       "3       smart              nein  2016-03-12 00:00:00             0   \n",
       "4        ford              nein  2016-04-01 00:00:00             0   \n",
       "\n",
       "   postalCode             lastSeen  \n",
       "0       79588  2016-04-06 06:45:54  \n",
       "1       71034  2016-04-06 14:45:08  \n",
       "2       35394  2016-04-06 20:15:37  \n",
       "3       33729  2016-03-15 03:16:28  \n",
       "4       39218  2016-04-01 14:38:50  "
      ]
     },
     "execution_count": 4,
     "metadata": {},
     "output_type": "execute_result"
    }
   ],
   "source": [
    "# By default .head() method displays the first 5 rows.\n",
    "autos.head()"
   ]
  },
  {
   "cell_type": "code",
   "execution_count": 5,
   "metadata": {
    "collapsed": false,
    "scrolled": true
   },
   "outputs": [
    {
     "name": "stdout",
     "output_type": "stream",
     "text": [
      "<class 'pandas.core.frame.DataFrame'>\n",
      "RangeIndex: 50000 entries, 0 to 49999\n",
      "Data columns (total 20 columns):\n",
      "dateCrawled            50000 non-null object\n",
      "name                   50000 non-null object\n",
      "seller                 50000 non-null object\n",
      "offerType              50000 non-null object\n",
      "price                  50000 non-null object\n",
      "abtest                 50000 non-null object\n",
      "vehicleType            44905 non-null object\n",
      "yearOfRegistration     50000 non-null int64\n",
      "gearbox                47320 non-null object\n",
      "powerPS                50000 non-null int64\n",
      "model                  47242 non-null object\n",
      "odometer               50000 non-null object\n",
      "monthOfRegistration    50000 non-null int64\n",
      "fuelType               45518 non-null object\n",
      "brand                  50000 non-null object\n",
      "notRepairedDamage      40171 non-null object\n",
      "dateCreated            50000 non-null object\n",
      "nrOfPictures           50000 non-null int64\n",
      "postalCode             50000 non-null int64\n",
      "lastSeen               50000 non-null object\n",
      "dtypes: int64(5), object(15)\n",
      "memory usage: 7.6+ MB\n"
     ]
    }
   ],
   "source": [
    "# Counts of non-null values for each attribute.\n",
    "autos.info()"
   ]
  },
  {
   "cell_type": "markdown",
   "metadata": {},
   "source": [
    "Some observations:\n",
    "- We can confirm that there are 50,000 rows of data.\n",
    "- Most of the columns contain string values (\"object\" data type in Pandas.)\n",
    "- However, some columns are missing data (ex. \"vehicleType\" has 44,905 entries)"
   ]
  },
  {
   "cell_type": "markdown",
   "metadata": {},
   "source": [
    "## Change column names\n",
    "It is difficult for us to read the column names as they are currently written in CamelCase. Let's change these to snake_case and give them more descriptive names."
   ]
  },
  {
   "cell_type": "code",
   "execution_count": 6,
   "metadata": {
    "collapsed": true
   },
   "outputs": [],
   "source": [
    "# List of new column names\n",
    "new_cols = [\"date_crawled\", \"name\", \"seller\", \"offer_type\",\n",
    "            \"price\", \"a_b_test\", \"vehicle_type\", \"registration_year\",\n",
    "            \"gearbox\", \"power_PS\", \"model\", \"odometer\", \"registration_month\",\n",
    "            \"fuel_type\", \"brand\", \"unrepaired_damage\", \"ad_created\",\n",
    "            \"nr_of_pictures\", \"postal_code\", \"last_seen\"]"
   ]
  },
  {
   "cell_type": "code",
   "execution_count": 7,
   "metadata": {
    "collapsed": false
   },
   "outputs": [
    {
     "data": {
      "text/plain": [
       "20"
      ]
     },
     "execution_count": 7,
     "metadata": {},
     "output_type": "execute_result"
    }
   ],
   "source": [
    "# Confirm new_cols has same number of column names\n",
    "len(new_cols)"
   ]
  },
  {
   "cell_type": "code",
   "execution_count": 8,
   "metadata": {
    "collapsed": false
   },
   "outputs": [],
   "source": [
    "# Assign new column names to our DataFrame\n",
    "autos.columns = new_cols"
   ]
  },
  {
   "cell_type": "code",
   "execution_count": 9,
   "metadata": {
    "collapsed": false
   },
   "outputs": [
    {
     "data": {
      "text/html": [
       "<div>\n",
       "<style scoped>\n",
       "    .dataframe tbody tr th:only-of-type {\n",
       "        vertical-align: middle;\n",
       "    }\n",
       "\n",
       "    .dataframe tbody tr th {\n",
       "        vertical-align: top;\n",
       "    }\n",
       "\n",
       "    .dataframe thead th {\n",
       "        text-align: right;\n",
       "    }\n",
       "</style>\n",
       "<table border=\"1\" class=\"dataframe\">\n",
       "  <thead>\n",
       "    <tr style=\"text-align: right;\">\n",
       "      <th></th>\n",
       "      <th>date_crawled</th>\n",
       "      <th>name</th>\n",
       "      <th>seller</th>\n",
       "      <th>offer_type</th>\n",
       "      <th>price</th>\n",
       "      <th>a_b_test</th>\n",
       "      <th>vehicle_type</th>\n",
       "      <th>registration_year</th>\n",
       "      <th>gearbox</th>\n",
       "      <th>power_PS</th>\n",
       "      <th>model</th>\n",
       "      <th>odometer</th>\n",
       "      <th>registration_month</th>\n",
       "      <th>fuel_type</th>\n",
       "      <th>brand</th>\n",
       "      <th>unrepaired_damage</th>\n",
       "      <th>ad_created</th>\n",
       "      <th>nr_of_pictures</th>\n",
       "      <th>postal_code</th>\n",
       "      <th>last_seen</th>\n",
       "    </tr>\n",
       "  </thead>\n",
       "  <tbody>\n",
       "    <tr>\n",
       "      <th>0</th>\n",
       "      <td>2016-03-26 17:47:46</td>\n",
       "      <td>Peugeot_807_160_NAVTECH_ON_BOARD</td>\n",
       "      <td>privat</td>\n",
       "      <td>Angebot</td>\n",
       "      <td>$5,000</td>\n",
       "      <td>control</td>\n",
       "      <td>bus</td>\n",
       "      <td>2004</td>\n",
       "      <td>manuell</td>\n",
       "      <td>158</td>\n",
       "      <td>andere</td>\n",
       "      <td>150,000km</td>\n",
       "      <td>3</td>\n",
       "      <td>lpg</td>\n",
       "      <td>peugeot</td>\n",
       "      <td>nein</td>\n",
       "      <td>2016-03-26 00:00:00</td>\n",
       "      <td>0</td>\n",
       "      <td>79588</td>\n",
       "      <td>2016-04-06 06:45:54</td>\n",
       "    </tr>\n",
       "    <tr>\n",
       "      <th>1</th>\n",
       "      <td>2016-04-04 13:38:56</td>\n",
       "      <td>BMW_740i_4_4_Liter_HAMANN_UMBAU_Mega_Optik</td>\n",
       "      <td>privat</td>\n",
       "      <td>Angebot</td>\n",
       "      <td>$8,500</td>\n",
       "      <td>control</td>\n",
       "      <td>limousine</td>\n",
       "      <td>1997</td>\n",
       "      <td>automatik</td>\n",
       "      <td>286</td>\n",
       "      <td>7er</td>\n",
       "      <td>150,000km</td>\n",
       "      <td>6</td>\n",
       "      <td>benzin</td>\n",
       "      <td>bmw</td>\n",
       "      <td>nein</td>\n",
       "      <td>2016-04-04 00:00:00</td>\n",
       "      <td>0</td>\n",
       "      <td>71034</td>\n",
       "      <td>2016-04-06 14:45:08</td>\n",
       "    </tr>\n",
       "    <tr>\n",
       "      <th>2</th>\n",
       "      <td>2016-03-26 18:57:24</td>\n",
       "      <td>Volkswagen_Golf_1.6_United</td>\n",
       "      <td>privat</td>\n",
       "      <td>Angebot</td>\n",
       "      <td>$8,990</td>\n",
       "      <td>test</td>\n",
       "      <td>limousine</td>\n",
       "      <td>2009</td>\n",
       "      <td>manuell</td>\n",
       "      <td>102</td>\n",
       "      <td>golf</td>\n",
       "      <td>70,000km</td>\n",
       "      <td>7</td>\n",
       "      <td>benzin</td>\n",
       "      <td>volkswagen</td>\n",
       "      <td>nein</td>\n",
       "      <td>2016-03-26 00:00:00</td>\n",
       "      <td>0</td>\n",
       "      <td>35394</td>\n",
       "      <td>2016-04-06 20:15:37</td>\n",
       "    </tr>\n",
       "    <tr>\n",
       "      <th>3</th>\n",
       "      <td>2016-03-12 16:58:10</td>\n",
       "      <td>Smart_smart_fortwo_coupe_softouch/F1/Klima/Pan...</td>\n",
       "      <td>privat</td>\n",
       "      <td>Angebot</td>\n",
       "      <td>$4,350</td>\n",
       "      <td>control</td>\n",
       "      <td>kleinwagen</td>\n",
       "      <td>2007</td>\n",
       "      <td>automatik</td>\n",
       "      <td>71</td>\n",
       "      <td>fortwo</td>\n",
       "      <td>70,000km</td>\n",
       "      <td>6</td>\n",
       "      <td>benzin</td>\n",
       "      <td>smart</td>\n",
       "      <td>nein</td>\n",
       "      <td>2016-03-12 00:00:00</td>\n",
       "      <td>0</td>\n",
       "      <td>33729</td>\n",
       "      <td>2016-03-15 03:16:28</td>\n",
       "    </tr>\n",
       "    <tr>\n",
       "      <th>4</th>\n",
       "      <td>2016-04-01 14:38:50</td>\n",
       "      <td>Ford_Focus_1_6_Benzin_TÜV_neu_ist_sehr_gepfleg...</td>\n",
       "      <td>privat</td>\n",
       "      <td>Angebot</td>\n",
       "      <td>$1,350</td>\n",
       "      <td>test</td>\n",
       "      <td>kombi</td>\n",
       "      <td>2003</td>\n",
       "      <td>manuell</td>\n",
       "      <td>0</td>\n",
       "      <td>focus</td>\n",
       "      <td>150,000km</td>\n",
       "      <td>7</td>\n",
       "      <td>benzin</td>\n",
       "      <td>ford</td>\n",
       "      <td>nein</td>\n",
       "      <td>2016-04-01 00:00:00</td>\n",
       "      <td>0</td>\n",
       "      <td>39218</td>\n",
       "      <td>2016-04-01 14:38:50</td>\n",
       "    </tr>\n",
       "  </tbody>\n",
       "</table>\n",
       "</div>"
      ],
      "text/plain": [
       "          date_crawled                                               name  \\\n",
       "0  2016-03-26 17:47:46                   Peugeot_807_160_NAVTECH_ON_BOARD   \n",
       "1  2016-04-04 13:38:56         BMW_740i_4_4_Liter_HAMANN_UMBAU_Mega_Optik   \n",
       "2  2016-03-26 18:57:24                         Volkswagen_Golf_1.6_United   \n",
       "3  2016-03-12 16:58:10  Smart_smart_fortwo_coupe_softouch/F1/Klima/Pan...   \n",
       "4  2016-04-01 14:38:50  Ford_Focus_1_6_Benzin_TÜV_neu_ist_sehr_gepfleg...   \n",
       "\n",
       "   seller offer_type   price a_b_test vehicle_type  registration_year  \\\n",
       "0  privat    Angebot  $5,000  control          bus               2004   \n",
       "1  privat    Angebot  $8,500  control    limousine               1997   \n",
       "2  privat    Angebot  $8,990     test    limousine               2009   \n",
       "3  privat    Angebot  $4,350  control   kleinwagen               2007   \n",
       "4  privat    Angebot  $1,350     test        kombi               2003   \n",
       "\n",
       "     gearbox  power_PS   model   odometer  registration_month fuel_type  \\\n",
       "0    manuell       158  andere  150,000km                   3       lpg   \n",
       "1  automatik       286     7er  150,000km                   6    benzin   \n",
       "2    manuell       102    golf   70,000km                   7    benzin   \n",
       "3  automatik        71  fortwo   70,000km                   6    benzin   \n",
       "4    manuell         0   focus  150,000km                   7    benzin   \n",
       "\n",
       "        brand unrepaired_damage           ad_created  nr_of_pictures  \\\n",
       "0     peugeot              nein  2016-03-26 00:00:00               0   \n",
       "1         bmw              nein  2016-04-04 00:00:00               0   \n",
       "2  volkswagen              nein  2016-03-26 00:00:00               0   \n",
       "3       smart              nein  2016-03-12 00:00:00               0   \n",
       "4        ford              nein  2016-04-01 00:00:00               0   \n",
       "\n",
       "   postal_code            last_seen  \n",
       "0        79588  2016-04-06 06:45:54  \n",
       "1        71034  2016-04-06 14:45:08  \n",
       "2        35394  2016-04-06 20:15:37  \n",
       "3        33729  2016-03-15 03:16:28  \n",
       "4        39218  2016-04-01 14:38:50  "
      ]
     },
     "execution_count": 9,
     "metadata": {},
     "output_type": "execute_result"
    }
   ],
   "source": [
    "# Display changes made\n",
    "autos.head()"
   ]
  },
  {
   "cell_type": "markdown",
   "metadata": {},
   "source": [
    "- We changed all the column names with multiple words to snake_case (ex. \"dateCrawled\" to \"date_crawled\".\n",
    "- We renamed a few headings to be more descriptive:\n",
    "    - \"yearOfRegistration\" to **\"registration_year\"**\n",
    "    - \"monthOfRegistration\" to **\"registration_month\"**\n",
    "    - \"notRepairedDamage\" to **\"unrepaired_damage\"**\n",
    "    - \"dateCreated\" to **\"ad_created\"**"
   ]
  },
  {
   "cell_type": "markdown",
   "metadata": {},
   "source": [
    "## Initial Exploration and Cleaning\n",
    "Let's further explore the data to determine what else we can clean."
   ]
  },
  {
   "cell_type": "code",
   "execution_count": 10,
   "metadata": {
    "collapsed": false,
    "scrolled": true
   },
   "outputs": [
    {
     "data": {
      "text/html": [
       "<div>\n",
       "<style scoped>\n",
       "    .dataframe tbody tr th:only-of-type {\n",
       "        vertical-align: middle;\n",
       "    }\n",
       "\n",
       "    .dataframe tbody tr th {\n",
       "        vertical-align: top;\n",
       "    }\n",
       "\n",
       "    .dataframe thead th {\n",
       "        text-align: right;\n",
       "    }\n",
       "</style>\n",
       "<table border=\"1\" class=\"dataframe\">\n",
       "  <thead>\n",
       "    <tr style=\"text-align: right;\">\n",
       "      <th></th>\n",
       "      <th>date_crawled</th>\n",
       "      <th>name</th>\n",
       "      <th>seller</th>\n",
       "      <th>offer_type</th>\n",
       "      <th>price</th>\n",
       "      <th>a_b_test</th>\n",
       "      <th>vehicle_type</th>\n",
       "      <th>registration_year</th>\n",
       "      <th>gearbox</th>\n",
       "      <th>power_PS</th>\n",
       "      <th>model</th>\n",
       "      <th>odometer</th>\n",
       "      <th>registration_month</th>\n",
       "      <th>fuel_type</th>\n",
       "      <th>brand</th>\n",
       "      <th>unrepaired_damage</th>\n",
       "      <th>ad_created</th>\n",
       "      <th>nr_of_pictures</th>\n",
       "      <th>postal_code</th>\n",
       "      <th>last_seen</th>\n",
       "    </tr>\n",
       "  </thead>\n",
       "  <tbody>\n",
       "    <tr>\n",
       "      <th>count</th>\n",
       "      <td>50000</td>\n",
       "      <td>50000</td>\n",
       "      <td>50000</td>\n",
       "      <td>50000</td>\n",
       "      <td>50000</td>\n",
       "      <td>50000</td>\n",
       "      <td>44905</td>\n",
       "      <td>50000.000000</td>\n",
       "      <td>47320</td>\n",
       "      <td>50000.000000</td>\n",
       "      <td>47242</td>\n",
       "      <td>50000</td>\n",
       "      <td>50000.000000</td>\n",
       "      <td>45518</td>\n",
       "      <td>50000</td>\n",
       "      <td>40171</td>\n",
       "      <td>50000</td>\n",
       "      <td>50000.0</td>\n",
       "      <td>50000.000000</td>\n",
       "      <td>50000</td>\n",
       "    </tr>\n",
       "    <tr>\n",
       "      <th>unique</th>\n",
       "      <td>48213</td>\n",
       "      <td>38754</td>\n",
       "      <td>2</td>\n",
       "      <td>2</td>\n",
       "      <td>2357</td>\n",
       "      <td>2</td>\n",
       "      <td>8</td>\n",
       "      <td>NaN</td>\n",
       "      <td>2</td>\n",
       "      <td>NaN</td>\n",
       "      <td>245</td>\n",
       "      <td>13</td>\n",
       "      <td>NaN</td>\n",
       "      <td>7</td>\n",
       "      <td>40</td>\n",
       "      <td>2</td>\n",
       "      <td>76</td>\n",
       "      <td>NaN</td>\n",
       "      <td>NaN</td>\n",
       "      <td>39481</td>\n",
       "    </tr>\n",
       "    <tr>\n",
       "      <th>top</th>\n",
       "      <td>2016-04-02 15:49:30</td>\n",
       "      <td>Ford_Fiesta</td>\n",
       "      <td>privat</td>\n",
       "      <td>Angebot</td>\n",
       "      <td>$0</td>\n",
       "      <td>test</td>\n",
       "      <td>limousine</td>\n",
       "      <td>NaN</td>\n",
       "      <td>manuell</td>\n",
       "      <td>NaN</td>\n",
       "      <td>golf</td>\n",
       "      <td>150,000km</td>\n",
       "      <td>NaN</td>\n",
       "      <td>benzin</td>\n",
       "      <td>volkswagen</td>\n",
       "      <td>nein</td>\n",
       "      <td>2016-04-03 00:00:00</td>\n",
       "      <td>NaN</td>\n",
       "      <td>NaN</td>\n",
       "      <td>2016-04-07 06:17:27</td>\n",
       "    </tr>\n",
       "    <tr>\n",
       "      <th>freq</th>\n",
       "      <td>3</td>\n",
       "      <td>78</td>\n",
       "      <td>49999</td>\n",
       "      <td>49999</td>\n",
       "      <td>1421</td>\n",
       "      <td>25756</td>\n",
       "      <td>12859</td>\n",
       "      <td>NaN</td>\n",
       "      <td>36993</td>\n",
       "      <td>NaN</td>\n",
       "      <td>4024</td>\n",
       "      <td>32424</td>\n",
       "      <td>NaN</td>\n",
       "      <td>30107</td>\n",
       "      <td>10687</td>\n",
       "      <td>35232</td>\n",
       "      <td>1946</td>\n",
       "      <td>NaN</td>\n",
       "      <td>NaN</td>\n",
       "      <td>8</td>\n",
       "    </tr>\n",
       "    <tr>\n",
       "      <th>mean</th>\n",
       "      <td>NaN</td>\n",
       "      <td>NaN</td>\n",
       "      <td>NaN</td>\n",
       "      <td>NaN</td>\n",
       "      <td>NaN</td>\n",
       "      <td>NaN</td>\n",
       "      <td>NaN</td>\n",
       "      <td>2005.073280</td>\n",
       "      <td>NaN</td>\n",
       "      <td>116.355920</td>\n",
       "      <td>NaN</td>\n",
       "      <td>NaN</td>\n",
       "      <td>5.723360</td>\n",
       "      <td>NaN</td>\n",
       "      <td>NaN</td>\n",
       "      <td>NaN</td>\n",
       "      <td>NaN</td>\n",
       "      <td>0.0</td>\n",
       "      <td>50813.627300</td>\n",
       "      <td>NaN</td>\n",
       "    </tr>\n",
       "    <tr>\n",
       "      <th>std</th>\n",
       "      <td>NaN</td>\n",
       "      <td>NaN</td>\n",
       "      <td>NaN</td>\n",
       "      <td>NaN</td>\n",
       "      <td>NaN</td>\n",
       "      <td>NaN</td>\n",
       "      <td>NaN</td>\n",
       "      <td>105.712813</td>\n",
       "      <td>NaN</td>\n",
       "      <td>209.216627</td>\n",
       "      <td>NaN</td>\n",
       "      <td>NaN</td>\n",
       "      <td>3.711984</td>\n",
       "      <td>NaN</td>\n",
       "      <td>NaN</td>\n",
       "      <td>NaN</td>\n",
       "      <td>NaN</td>\n",
       "      <td>0.0</td>\n",
       "      <td>25779.747957</td>\n",
       "      <td>NaN</td>\n",
       "    </tr>\n",
       "    <tr>\n",
       "      <th>min</th>\n",
       "      <td>NaN</td>\n",
       "      <td>NaN</td>\n",
       "      <td>NaN</td>\n",
       "      <td>NaN</td>\n",
       "      <td>NaN</td>\n",
       "      <td>NaN</td>\n",
       "      <td>NaN</td>\n",
       "      <td>1000.000000</td>\n",
       "      <td>NaN</td>\n",
       "      <td>0.000000</td>\n",
       "      <td>NaN</td>\n",
       "      <td>NaN</td>\n",
       "      <td>0.000000</td>\n",
       "      <td>NaN</td>\n",
       "      <td>NaN</td>\n",
       "      <td>NaN</td>\n",
       "      <td>NaN</td>\n",
       "      <td>0.0</td>\n",
       "      <td>1067.000000</td>\n",
       "      <td>NaN</td>\n",
       "    </tr>\n",
       "    <tr>\n",
       "      <th>25%</th>\n",
       "      <td>NaN</td>\n",
       "      <td>NaN</td>\n",
       "      <td>NaN</td>\n",
       "      <td>NaN</td>\n",
       "      <td>NaN</td>\n",
       "      <td>NaN</td>\n",
       "      <td>NaN</td>\n",
       "      <td>1999.000000</td>\n",
       "      <td>NaN</td>\n",
       "      <td>70.000000</td>\n",
       "      <td>NaN</td>\n",
       "      <td>NaN</td>\n",
       "      <td>3.000000</td>\n",
       "      <td>NaN</td>\n",
       "      <td>NaN</td>\n",
       "      <td>NaN</td>\n",
       "      <td>NaN</td>\n",
       "      <td>0.0</td>\n",
       "      <td>30451.000000</td>\n",
       "      <td>NaN</td>\n",
       "    </tr>\n",
       "    <tr>\n",
       "      <th>50%</th>\n",
       "      <td>NaN</td>\n",
       "      <td>NaN</td>\n",
       "      <td>NaN</td>\n",
       "      <td>NaN</td>\n",
       "      <td>NaN</td>\n",
       "      <td>NaN</td>\n",
       "      <td>NaN</td>\n",
       "      <td>2003.000000</td>\n",
       "      <td>NaN</td>\n",
       "      <td>105.000000</td>\n",
       "      <td>NaN</td>\n",
       "      <td>NaN</td>\n",
       "      <td>6.000000</td>\n",
       "      <td>NaN</td>\n",
       "      <td>NaN</td>\n",
       "      <td>NaN</td>\n",
       "      <td>NaN</td>\n",
       "      <td>0.0</td>\n",
       "      <td>49577.000000</td>\n",
       "      <td>NaN</td>\n",
       "    </tr>\n",
       "    <tr>\n",
       "      <th>75%</th>\n",
       "      <td>NaN</td>\n",
       "      <td>NaN</td>\n",
       "      <td>NaN</td>\n",
       "      <td>NaN</td>\n",
       "      <td>NaN</td>\n",
       "      <td>NaN</td>\n",
       "      <td>NaN</td>\n",
       "      <td>2008.000000</td>\n",
       "      <td>NaN</td>\n",
       "      <td>150.000000</td>\n",
       "      <td>NaN</td>\n",
       "      <td>NaN</td>\n",
       "      <td>9.000000</td>\n",
       "      <td>NaN</td>\n",
       "      <td>NaN</td>\n",
       "      <td>NaN</td>\n",
       "      <td>NaN</td>\n",
       "      <td>0.0</td>\n",
       "      <td>71540.000000</td>\n",
       "      <td>NaN</td>\n",
       "    </tr>\n",
       "    <tr>\n",
       "      <th>max</th>\n",
       "      <td>NaN</td>\n",
       "      <td>NaN</td>\n",
       "      <td>NaN</td>\n",
       "      <td>NaN</td>\n",
       "      <td>NaN</td>\n",
       "      <td>NaN</td>\n",
       "      <td>NaN</td>\n",
       "      <td>9999.000000</td>\n",
       "      <td>NaN</td>\n",
       "      <td>17700.000000</td>\n",
       "      <td>NaN</td>\n",
       "      <td>NaN</td>\n",
       "      <td>12.000000</td>\n",
       "      <td>NaN</td>\n",
       "      <td>NaN</td>\n",
       "      <td>NaN</td>\n",
       "      <td>NaN</td>\n",
       "      <td>0.0</td>\n",
       "      <td>99998.000000</td>\n",
       "      <td>NaN</td>\n",
       "    </tr>\n",
       "  </tbody>\n",
       "</table>\n",
       "</div>"
      ],
      "text/plain": [
       "               date_crawled         name  seller offer_type  price a_b_test  \\\n",
       "count                 50000        50000   50000      50000  50000    50000   \n",
       "unique                48213        38754       2          2   2357        2   \n",
       "top     2016-04-02 15:49:30  Ford_Fiesta  privat    Angebot     $0     test   \n",
       "freq                      3           78   49999      49999   1421    25756   \n",
       "mean                    NaN          NaN     NaN        NaN    NaN      NaN   \n",
       "std                     NaN          NaN     NaN        NaN    NaN      NaN   \n",
       "min                     NaN          NaN     NaN        NaN    NaN      NaN   \n",
       "25%                     NaN          NaN     NaN        NaN    NaN      NaN   \n",
       "50%                     NaN          NaN     NaN        NaN    NaN      NaN   \n",
       "75%                     NaN          NaN     NaN        NaN    NaN      NaN   \n",
       "max                     NaN          NaN     NaN        NaN    NaN      NaN   \n",
       "\n",
       "       vehicle_type  registration_year  gearbox      power_PS  model  \\\n",
       "count         44905       50000.000000    47320  50000.000000  47242   \n",
       "unique            8                NaN        2           NaN    245   \n",
       "top       limousine                NaN  manuell           NaN   golf   \n",
       "freq          12859                NaN    36993           NaN   4024   \n",
       "mean            NaN        2005.073280      NaN    116.355920    NaN   \n",
       "std             NaN         105.712813      NaN    209.216627    NaN   \n",
       "min             NaN        1000.000000      NaN      0.000000    NaN   \n",
       "25%             NaN        1999.000000      NaN     70.000000    NaN   \n",
       "50%             NaN        2003.000000      NaN    105.000000    NaN   \n",
       "75%             NaN        2008.000000      NaN    150.000000    NaN   \n",
       "max             NaN        9999.000000      NaN  17700.000000    NaN   \n",
       "\n",
       "         odometer  registration_month fuel_type       brand unrepaired_damage  \\\n",
       "count       50000        50000.000000     45518       50000             40171   \n",
       "unique         13                 NaN         7          40                 2   \n",
       "top     150,000km                 NaN    benzin  volkswagen              nein   \n",
       "freq        32424                 NaN     30107       10687             35232   \n",
       "mean          NaN            5.723360       NaN         NaN               NaN   \n",
       "std           NaN            3.711984       NaN         NaN               NaN   \n",
       "min           NaN            0.000000       NaN         NaN               NaN   \n",
       "25%           NaN            3.000000       NaN         NaN               NaN   \n",
       "50%           NaN            6.000000       NaN         NaN               NaN   \n",
       "75%           NaN            9.000000       NaN         NaN               NaN   \n",
       "max           NaN           12.000000       NaN         NaN               NaN   \n",
       "\n",
       "                 ad_created  nr_of_pictures   postal_code            last_seen  \n",
       "count                 50000         50000.0  50000.000000                50000  \n",
       "unique                   76             NaN           NaN                39481  \n",
       "top     2016-04-03 00:00:00             NaN           NaN  2016-04-07 06:17:27  \n",
       "freq                   1946             NaN           NaN                    8  \n",
       "mean                    NaN             0.0  50813.627300                  NaN  \n",
       "std                     NaN             0.0  25779.747957                  NaN  \n",
       "min                     NaN             0.0   1067.000000                  NaN  \n",
       "25%                     NaN             0.0  30451.000000                  NaN  \n",
       "50%                     NaN             0.0  49577.000000                  NaN  \n",
       "75%                     NaN             0.0  71540.000000                  NaN  \n",
       "max                     NaN             0.0  99998.000000                  NaN  "
      ]
     },
     "execution_count": 10,
     "metadata": {},
     "output_type": "execute_result"
    }
   ],
   "source": [
    "# Display summary statistics for numerical and categorical columns.\n",
    "autos.describe(include='all')"
   ]
  },
  {
   "cell_type": "markdown",
   "metadata": {},
   "source": [
    "- We can see that **\"seller\", \"offer_type\", and \"nr_of_pictures\"** largely contain only one value. \n",
    "    - We shoud drop these columns since they are unlikely to show us anything interesting.\n",
    "- We should take a closer look at the columns that are missing data.\n",
    "- We need to convert **\"price\"** and **\"odometer\"** from strings to numerical values.\n",
    "    - We will need to remove any non-numerical characters, then convert these columns to the appropriate data type.\n",
    "\n",
    "### Remove columns\n",
    "We can remove these columns in only a couple lines of code. First, we list the names of the unwanted columns. Then, we can use that list as a parameter in the drop method."
   ]
  },
  {
   "cell_type": "code",
   "execution_count": 11,
   "metadata": {
    "collapsed": true
   },
   "outputs": [],
   "source": [
    "# List of columns to remove\n",
    "drop_cols = [\"seller\", \"offer_type\", \"nr_of_pictures\"]\n",
    "\n",
    "# Pass the list of columns as a parameter in the drop method\n",
    "autos = autos.drop(columns = drop_cols)"
   ]
  },
  {
   "cell_type": "markdown",
   "metadata": {},
   "source": [
    "### Investigate Missing Data\n",
    "Let's take a closer look at the following columns with missing data:\n",
    "- **\"vehicle_type\"**\n",
    "- **\"gearbox\"**\n",
    "- **\"model\"**\n",
    "- **\"fuel_type\"**\n",
    "- **\"unrepaired_damage\"**\n",
    "\n",
    "Below are the proportions of the values in each column."
   ]
  },
  {
   "cell_type": "code",
   "execution_count": 12,
   "metadata": {
    "collapsed": false
   },
   "outputs": [
    {
     "data": {
      "text/plain": [
       "limousine     0.25718\n",
       "kleinwagen    0.21644\n",
       "kombi         0.18254\n",
       "NaN           0.10190\n",
       "bus           0.08186\n",
       "cabrio        0.06122\n",
       "coupe         0.05074\n",
       "suv           0.03972\n",
       "andere        0.00840\n",
       "Name: vehicle_type, dtype: float64"
      ]
     },
     "execution_count": 12,
     "metadata": {},
     "output_type": "execute_result"
    }
   ],
   "source": [
    "autos[\"vehicle_type\"].value_counts(normalize=True,dropna=False)"
   ]
  },
  {
   "cell_type": "code",
   "execution_count": 13,
   "metadata": {
    "collapsed": false
   },
   "outputs": [
    {
     "data": {
      "text/plain": [
       "manuell      0.73986\n",
       "automatik    0.20654\n",
       "NaN          0.05360\n",
       "Name: gearbox, dtype: float64"
      ]
     },
     "execution_count": 13,
     "metadata": {},
     "output_type": "execute_result"
    }
   ],
   "source": [
    "autos[\"gearbox\"].value_counts(normalize=True,dropna=False)"
   ]
  },
  {
   "cell_type": "code",
   "execution_count": 14,
   "metadata": {
    "collapsed": false
   },
   "outputs": [
    {
     "data": {
      "text/plain": [
       "golf      0.08048\n",
       "andere    0.07056\n",
       "3er       0.05522\n",
       "NaN       0.05516\n",
       "polo      0.03514\n",
       "Name: model, dtype: float64"
      ]
     },
     "execution_count": 14,
     "metadata": {},
     "output_type": "execute_result"
    }
   ],
   "source": [
    "# .head() is used because 245 unique models is too many to display\n",
    "(autos[\"model\"]\n",
    " .value_counts(normalize=True,dropna=False)\n",
    " .head()\n",
    ")"
   ]
  },
  {
   "cell_type": "code",
   "execution_count": 15,
   "metadata": {
    "collapsed": false
   },
   "outputs": [
    {
     "data": {
      "text/plain": [
       "benzin     0.60214\n",
       "diesel     0.29134\n",
       "NaN        0.08964\n",
       "lpg        0.01382\n",
       "cng        0.00150\n",
       "hybrid     0.00074\n",
       "andere     0.00044\n",
       "elektro    0.00038\n",
       "Name: fuel_type, dtype: float64"
      ]
     },
     "execution_count": 15,
     "metadata": {},
     "output_type": "execute_result"
    }
   ],
   "source": [
    "autos[\"fuel_type\"].value_counts(normalize=True,dropna=False)"
   ]
  },
  {
   "cell_type": "code",
   "execution_count": 16,
   "metadata": {
    "collapsed": false
   },
   "outputs": [
    {
     "data": {
      "text/plain": [
       "nein    0.70464\n",
       "NaN     0.19658\n",
       "ja      0.09878\n",
       "Name: unrepaired_damage, dtype: float64"
      ]
     },
     "execution_count": 16,
     "metadata": {},
     "output_type": "execute_result"
    }
   ],
   "source": [
    "autos[\"unrepaired_damage\"].value_counts(normalize=True,dropna=False)"
   ]
  },
  {
   "cell_type": "markdown",
   "metadata": {},
   "source": [
    "We can see that nearly 20% of **\"unrepaired_damage\"** entries are missing.\n",
    "\n",
    "To deal with the missing data, our options are:\n",
    "- Delete the columns with missing values.\n",
    "- Delete the rows with missing values.\n",
    "- Insert values where they are currently missing.\n",
    "- Leave the missing values alone.\n",
    "\n",
    "Out of these columns **\"gearbox\"** has the smallest proportion of missing values. The most frequent value in this column (*\"manuell\"*) appears much more than the other. Let's use this value to replace those that are missing."
   ]
  },
  {
   "cell_type": "code",
   "execution_count": 17,
   "metadata": {
    "collapsed": false
   },
   "outputs": [],
   "source": [
    "# Replace missing values in \"gearbox\" column\n",
    "autos[\"gearbox\"] = autos[\"gearbox\"].fillna(\"manuell\")"
   ]
  },
  {
   "cell_type": "code",
   "execution_count": 18,
   "metadata": {
    "collapsed": false
   },
   "outputs": [
    {
     "data": {
      "text/plain": [
       "manuell      0.79346\n",
       "automatik    0.20654\n",
       "Name: gearbox, dtype: float64"
      ]
     },
     "execution_count": 18,
     "metadata": {},
     "output_type": "execute_result"
    }
   ],
   "source": [
    "# Display value counts\n",
    "autos[\"gearbox\"].value_counts(normalize=True,dropna=False)"
   ]
  },
  {
   "cell_type": "markdown",
   "metadata": {},
   "source": [
    "We have successfully filled all the NaN's in the **\"gearbox\"** column.\n",
    "\n",
    "### Convert strings to numbers\n",
    "Now let's convert the entries of **\"price\"** and **\"odometer\"**.\n",
    "\n",
    "First, let's remove the non-numeric characters by using the substring .replace() method:\n",
    "- The first argument is the character we want to remove.\n",
    "- The second argument is the replacement for the character. (In our case, literally nothing, indicated by the empty quotes.)"
   ]
  },
  {
   "cell_type": "code",
   "execution_count": 19,
   "metadata": {
    "collapsed": true
   },
   "outputs": [],
   "source": [
    "# Remove non-numeric characters\n",
    "autos[\"price\"] = autos[\"price\"].str.replace(\"$\", \"\")\n",
    "autos[\"price\"] = autos[\"price\"].str.replace(\",\", \"\")\n",
    "\n",
    "autos[\"odometer\"] = autos[\"odometer\"].str.replace(\"km\", \"\")\n",
    "autos[\"odometer\"] = autos[\"odometer\"].str.replace(\",\", \"\")"
   ]
  },
  {
   "cell_type": "markdown",
   "metadata": {},
   "source": [
    "Next, let's convert these columns to the integer data type."
   ]
  },
  {
   "cell_type": "code",
   "execution_count": 20,
   "metadata": {
    "collapsed": true
   },
   "outputs": [],
   "source": [
    "# Convert data types to int\n",
    "autos[\"price\"] = autos[\"price\"].astype(int)\n",
    "autos[\"odometer\"] = autos[\"odometer\"].astype(int)"
   ]
  },
  {
   "cell_type": "markdown",
   "metadata": {},
   "source": [
    "Finally, let's rename **\"odometer\"** so that we can keep track of its units."
   ]
  },
  {
   "cell_type": "code",
   "execution_count": 21,
   "metadata": {
    "collapsed": false
   },
   "outputs": [],
   "source": [
    "# Rename \"odometer\" to describe units\n",
    "autos = autos.rename(columns={\"odometer\": \"odometer_km\"})"
   ]
  },
  {
   "cell_type": "markdown",
   "metadata": {},
   "source": [
    "## Exploring Price and Odometer Columns\n",
    "Now that we have transformed the **\"price\"** and **\"odometer_km\"\"** columns, we can evaluate them numerically.\n",
    "\n",
    "### Price\n",
    "First let's bring up the stats for **\"price\"** and look for anything suspicious."
   ]
  },
  {
   "cell_type": "code",
   "execution_count": 22,
   "metadata": {
    "collapsed": false,
    "scrolled": true
   },
   "outputs": [
    {
     "data": {
      "text/plain": [
       "count       50000.0\n",
       "mean         9840.0\n",
       "std        481104.0\n",
       "min             0.0\n",
       "25%          1100.0\n",
       "50%          2950.0\n",
       "75%          7200.0\n",
       "max      99999999.0\n",
       "Name: price, dtype: float64"
      ]
     },
     "execution_count": 22,
     "metadata": {},
     "output_type": "execute_result"
    }
   ],
   "source": [
    "# Summary statistics for \"price\" column\n",
    "round(autos[\"price\"].describe())"
   ]
  },
  {
   "cell_type": "markdown",
   "metadata": {},
   "source": [
    "We can tell that this is a skewed distribution for the following reasons:\n",
    "- The mean is greatly about the mean *(50%)* and even the 3rd Quartile *(75%)*.\n",
    "    - More than 75% of the prices are below the mean, that doesn't seem right.\n",
    "- The max value (99,999,999) is clearly driving up the mean.\n",
    "\n",
    "In this case, we can tell more about the distribution by looking at the median."
   ]
  },
  {
   "cell_type": "code",
   "execution_count": 23,
   "metadata": {
    "collapsed": false
   },
   "outputs": [
    {
     "data": {
      "text/plain": [
       "2950.0"
      ]
     },
     "execution_count": 23,
     "metadata": {},
     "output_type": "execute_result"
    }
   ],
   "source": [
    "autos[\"price\"].median()"
   ]
  },
  {
   "cell_type": "code",
   "execution_count": 24,
   "metadata": {
    "collapsed": false
   },
   "outputs": [
    {
     "data": {
      "text/plain": [
       "2357"
      ]
     },
     "execution_count": 24,
     "metadata": {},
     "output_type": "execute_result"
    }
   ],
   "source": [
    "# Number of unique entries in \"price\" column\n",
    "autos[\"price\"].unique().shape[0]"
   ]
  },
  {
   "cell_type": "markdown",
   "metadata": {},
   "source": [
    "Out of the 2357 unique values, how many are equal to the max?\n",
    "\n",
    "Let's start by creating a Boolean variable that compares every value in the \"price\" column against the max. This will return a Series with values of True or False, corresponding to this evaluation."
   ]
  },
  {
   "cell_type": "code",
   "execution_count": 25,
   "metadata": {
    "collapsed": false
   },
   "outputs": [],
   "source": [
    "# Boolean variable to return rows with max price\n",
    "max_price = autos[\"price\"] == autos[\"price\"].max()"
   ]
  },
  {
   "cell_type": "code",
   "execution_count": 26,
   "metadata": {
    "collapsed": false
   },
   "outputs": [
    {
     "data": {
      "text/plain": [
       "1"
      ]
     },
     "execution_count": 26,
     "metadata": {},
     "output_type": "execute_result"
    }
   ],
   "source": [
    "# Return the number of rows meeting the condition\n",
    "autos.loc[max_price, \"price\"].count()"
   ]
  },
  {
   "cell_type": "markdown",
   "metadata": {},
   "source": [
    "We can see there is only one entry that matches the max. Let's look at this row of the data."
   ]
  },
  {
   "cell_type": "code",
   "execution_count": 27,
   "metadata": {
    "collapsed": false
   },
   "outputs": [
    {
     "data": {
      "text/html": [
       "<div>\n",
       "<style scoped>\n",
       "    .dataframe tbody tr th:only-of-type {\n",
       "        vertical-align: middle;\n",
       "    }\n",
       "\n",
       "    .dataframe tbody tr th {\n",
       "        vertical-align: top;\n",
       "    }\n",
       "\n",
       "    .dataframe thead th {\n",
       "        text-align: right;\n",
       "    }\n",
       "</style>\n",
       "<table border=\"1\" class=\"dataframe\">\n",
       "  <thead>\n",
       "    <tr style=\"text-align: right;\">\n",
       "      <th></th>\n",
       "      <th>date_crawled</th>\n",
       "      <th>name</th>\n",
       "      <th>price</th>\n",
       "    </tr>\n",
       "  </thead>\n",
       "  <tbody>\n",
       "    <tr>\n",
       "      <th>39705</th>\n",
       "      <td>2016-03-22 14:58:27</td>\n",
       "      <td>Tausch_gegen_gleichwertiges</td>\n",
       "      <td>99999999</td>\n",
       "    </tr>\n",
       "  </tbody>\n",
       "</table>\n",
       "</div>"
      ],
      "text/plain": [
       "              date_crawled                         name     price\n",
       "39705  2016-03-22 14:58:27  Tausch_gegen_gleichwertiges  99999999"
      ]
     },
     "execution_count": 27,
     "metadata": {},
     "output_type": "execute_result"
    }
   ],
   "source": [
    "autos.loc[max_price, :\"price\"]"
   ]
  },
  {
   "cell_type": "markdown",
   "metadata": {},
   "source": [
    "Now, let's use the **Fence Rule** to find all the outliers. These rows are good candidates for elimination.\n",
    "\n",
    "To use the Fence Rule, we need to calculate three numbers:\n",
    "- Interquartile Range (IQR)\n",
    "- Lower and Upper Fence: the lower and upper cutoff points for inclusion.\n",
    "\n",
    "Formulas:\n",
    ">IQR = Q3 - Q1\n",
    "\n",
    ">LF = Q1 - (1.5 * IQR)\n",
    "\n",
    ">UF = Q3 + (1.5 * IQR)"
   ]
  },
  {
   "cell_type": "code",
   "execution_count": 28,
   "metadata": {
    "collapsed": true
   },
   "outputs": [],
   "source": [
    "# Define variables:\n",
    "\n",
    "# IQR = Q3 - Q1\n",
    "price_IQR = autos[\"price\"].quantile(.75) - autos[\"price\"].quantile(.25)\n",
    "\n",
    "# LF = Q1 - (1.5 * IQR)\n",
    "price_LF = autos[\"price\"].quantile(.25) - (1.5 * price_IQR)\n",
    "\n",
    "# UF = Q3 + (1.5 * IQR)\n",
    "price_UF = autos[\"price\"].quantile(.75) + (1.5 * price_IQR)"
   ]
  },
  {
   "cell_type": "code",
   "execution_count": 29,
   "metadata": {
    "collapsed": false
   },
   "outputs": [
    {
     "name": "stdout",
     "output_type": "stream",
     "text": [
      "LF: -8050.0\n",
      "UF: 16350.0\n"
     ]
    }
   ],
   "source": [
    "# Display Fence values\n",
    "print(\"LF:\", price_LF)\n",
    "print(\"UF:\", price_UF)"
   ]
  },
  {
   "cell_type": "markdown",
   "metadata": {},
   "source": [
    "We already know that the minimum price is 0, therefore we know there will be no outliers below the Lower Fence."
   ]
  },
  {
   "cell_type": "code",
   "execution_count": 30,
   "metadata": {
    "collapsed": true
   },
   "outputs": [],
   "source": [
    "# Boolean for outliers above Upper Fence\n",
    "expensive = (autos[\"price\"] > price_UF) == True"
   ]
  },
  {
   "cell_type": "code",
   "execution_count": 31,
   "metadata": {
    "collapsed": false,
    "scrolled": true
   },
   "outputs": [
    {
     "data": {
      "text/plain": [
       "3784"
      ]
     },
     "execution_count": 31,
     "metadata": {},
     "output_type": "execute_result"
    }
   ],
   "source": [
    "# Quantity of outliers to be discarded\n",
    "autos.loc[expensive, \"price\"].count()"
   ]
  },
  {
   "cell_type": "code",
   "execution_count": 32,
   "metadata": {
    "collapsed": true
   },
   "outputs": [],
   "source": [
    "# List of indices of the rows with price outliers\n",
    "price_outliers = autos.loc[expensive, :].index"
   ]
  },
  {
   "cell_type": "code",
   "execution_count": 33,
   "metadata": {
    "collapsed": true
   },
   "outputs": [],
   "source": [
    "# Drop price outliers from the DataFrame\n",
    "autos = autos.drop(index = price_outliers)"
   ]
  },
  {
   "cell_type": "markdown",
   "metadata": {},
   "source": [
    "### Odemeter\n",
    "Now let's repeat the search and elimination of outliers from **\"odometer_km\"**."
   ]
  },
  {
   "cell_type": "code",
   "execution_count": 34,
   "metadata": {
    "collapsed": false
   },
   "outputs": [
    {
     "data": {
      "text/plain": [
       "count     46216.0\n",
       "mean     129603.0\n",
       "std       36812.0\n",
       "min        5000.0\n",
       "25%      125000.0\n",
       "50%      150000.0\n",
       "75%      150000.0\n",
       "max      150000.0\n",
       "Name: odometer_km, dtype: float64"
      ]
     },
     "execution_count": 34,
     "metadata": {},
     "output_type": "execute_result"
    }
   ],
   "source": [
    "round(autos[\"odometer_km\"].describe())"
   ]
  },
  {
   "cell_type": "markdown",
   "metadata": {},
   "source": [
    "From these summary stats, we can infer the following:\n",
    "- We do not need to find the Upper Fence because the mean and Q3 are equal to the max.\n",
    "- If any outliers exist, we would find them below the Lower Fence."
   ]
  },
  {
   "cell_type": "code",
   "execution_count": 35,
   "metadata": {
    "collapsed": false
   },
   "outputs": [
    {
     "data": {
      "text/plain": [
       "13"
      ]
     },
     "execution_count": 35,
     "metadata": {},
     "output_type": "execute_result"
    }
   ],
   "source": [
    "# Number of unique entries in \"odometer_km\" column\n",
    "autos[\"odometer_km\"].unique().shape[0]"
   ]
  },
  {
   "cell_type": "markdown",
   "metadata": {},
   "source": [
    "There are only thirteen unique odometer recordings. Let's find out how many of each."
   ]
  },
  {
   "cell_type": "code",
   "execution_count": 36,
   "metadata": {
    "collapsed": false
   },
   "outputs": [
    {
     "data": {
      "text/plain": [
       "5000        863\n",
       "10000       137\n",
       "20000       460\n",
       "30000       496\n",
       "40000       530\n",
       "50000       717\n",
       "60000       883\n",
       "70000       967\n",
       "80000      1199\n",
       "90000      1526\n",
       "100000     1917\n",
       "125000     4834\n",
       "150000    31687\n",
       "Name: odometer_km, dtype: int64"
      ]
     },
     "execution_count": 36,
     "metadata": {},
     "output_type": "execute_result"
    }
   ],
   "source": [
    "autos[\"odometer_km\"].value_counts().sort_index(ascending=True)"
   ]
  },
  {
   "cell_type": "markdown",
   "metadata": {},
   "source": [
    "The majority of the entries are equal to the max value of 150,000 km. Should we eliminate any entries?"
   ]
  },
  {
   "cell_type": "code",
   "execution_count": 37,
   "metadata": {
    "collapsed": false
   },
   "outputs": [
    {
     "name": "stdout",
     "output_type": "stream",
     "text": [
      "87500.0\n"
     ]
    }
   ],
   "source": [
    "# Define parameters to classify outliers in \"odometer_km\"\n",
    "\n",
    "# IQR = Q3 - Q1\n",
    "odometer_IQR = autos[\"odometer_km\"].quantile(.75) - autos[\"odometer_km\"].quantile(.25)\n",
    "\n",
    "# LF = Q1 - (1.5 * IQR)\n",
    "odometer_LF = autos[\"odometer_km\"].quantile(.25) - (1.5 * odometer_IQR)\n",
    "\n",
    "print(odometer_LF)"
   ]
  },
  {
   "cell_type": "markdown",
   "metadata": {},
   "source": [
    "Now that we have the Lower Fence value, let's identify and eliminate the outlier rows."
   ]
  },
  {
   "cell_type": "code",
   "execution_count": 38,
   "metadata": {
    "collapsed": true
   },
   "outputs": [],
   "source": [
    "# Boolean variable that returns rows of outliers below the Lower Fence\n",
    "low_odometer = (autos[\"odometer_km\"] < odometer_LF) == True\n",
    "\n",
    "# Array of indices of the rows that are outliers\n",
    "odometer_outliers = autos.loc[low_odometer, :].index"
   ]
  },
  {
   "cell_type": "code",
   "execution_count": 39,
   "metadata": {
    "collapsed": true
   },
   "outputs": [],
   "source": [
    "# Drop rows containing outliers from the DataFrame\n",
    "autos = autos.drop(index = odometer_outliers)"
   ]
  },
  {
   "cell_type": "code",
   "execution_count": 40,
   "metadata": {
    "collapsed": false
   },
   "outputs": [
    {
     "name": "stdout",
     "output_type": "stream",
     "text": [
      "<class 'pandas.core.frame.DataFrame'>\n",
      "Int64Index: 39964 entries, 0 to 49999\n",
      "Data columns (total 17 columns):\n",
      "date_crawled          39964 non-null object\n",
      "name                  39964 non-null object\n",
      "price                 39964 non-null int64\n",
      "a_b_test              39964 non-null object\n",
      "vehicle_type          35698 non-null object\n",
      "registration_year     39964 non-null int64\n",
      "gearbox               39964 non-null object\n",
      "power_PS              39964 non-null int64\n",
      "model                 37819 non-null object\n",
      "odometer_km           39964 non-null int64\n",
      "registration_month    39964 non-null int64\n",
      "fuel_type             36260 non-null object\n",
      "brand                 39964 non-null object\n",
      "unrepaired_damage     31530 non-null object\n",
      "ad_created            39964 non-null object\n",
      "postal_code           39964 non-null int64\n",
      "last_seen             39964 non-null object\n",
      "dtypes: int64(6), object(11)\n",
      "memory usage: 5.5+ MB\n"
     ]
    }
   ],
   "source": [
    "# Evaluate DataFrame after changes\n",
    "autos.info()"
   ]
  },
  {
   "cell_type": "markdown",
   "metadata": {},
   "source": [
    "By removing the **\"price\"** and **\"odometer_km\"** outliers, we have eliminated about 10,000 rows from the data.\n",
    "\n",
    "## Date Columns\n",
    "The date columns contain date and timestamp values. We will need to isolate just the dates to evaluate the date range for these columns."
   ]
  },
  {
   "cell_type": "code",
   "execution_count": 41,
   "metadata": {
    "collapsed": true
   },
   "outputs": [],
   "source": [
    "date_cols = [\"date_crawled\", \"last_seen\", \"ad_created\"]"
   ]
  },
  {
   "cell_type": "code",
   "execution_count": 42,
   "metadata": {
    "collapsed": false
   },
   "outputs": [
    {
     "data": {
      "text/html": [
       "<div>\n",
       "<style scoped>\n",
       "    .dataframe tbody tr th:only-of-type {\n",
       "        vertical-align: middle;\n",
       "    }\n",
       "\n",
       "    .dataframe tbody tr th {\n",
       "        vertical-align: top;\n",
       "    }\n",
       "\n",
       "    .dataframe thead th {\n",
       "        text-align: right;\n",
       "    }\n",
       "</style>\n",
       "<table border=\"1\" class=\"dataframe\">\n",
       "  <thead>\n",
       "    <tr style=\"text-align: right;\">\n",
       "      <th></th>\n",
       "      <th>date_crawled</th>\n",
       "      <th>last_seen</th>\n",
       "      <th>ad_created</th>\n",
       "    </tr>\n",
       "  </thead>\n",
       "  <tbody>\n",
       "    <tr>\n",
       "      <th>0</th>\n",
       "      <td>2016-03-26 17:47:46</td>\n",
       "      <td>2016-04-06 06:45:54</td>\n",
       "      <td>2016-03-26 00:00:00</td>\n",
       "    </tr>\n",
       "    <tr>\n",
       "      <th>1</th>\n",
       "      <td>2016-04-04 13:38:56</td>\n",
       "      <td>2016-04-06 14:45:08</td>\n",
       "      <td>2016-04-04 00:00:00</td>\n",
       "    </tr>\n",
       "    <tr>\n",
       "      <th>4</th>\n",
       "      <td>2016-04-01 14:38:50</td>\n",
       "      <td>2016-04-01 14:38:50</td>\n",
       "      <td>2016-04-01 00:00:00</td>\n",
       "    </tr>\n",
       "  </tbody>\n",
       "</table>\n",
       "</div>"
      ],
      "text/plain": [
       "          date_crawled            last_seen           ad_created\n",
       "0  2016-03-26 17:47:46  2016-04-06 06:45:54  2016-03-26 00:00:00\n",
       "1  2016-04-04 13:38:56  2016-04-06 14:45:08  2016-04-04 00:00:00\n",
       "4  2016-04-01 14:38:50  2016-04-01 14:38:50  2016-04-01 00:00:00"
      ]
     },
     "execution_count": 42,
     "metadata": {},
     "output_type": "execute_result"
    }
   ],
   "source": [
    "autos[date_cols].head(3)"
   ]
  },
  {
   "cell_type": "markdown",
   "metadata": {},
   "source": [
    "Since these columns are stored as strings, we can use substring methods to extract the dates.  We can look at the first ten characters for each: **YYYY-MM-DD**"
   ]
  },
  {
   "cell_type": "code",
   "execution_count": 43,
   "metadata": {
    "collapsed": false
   },
   "outputs": [
    {
     "name": "stdout",
     "output_type": "stream",
     "text": [
      "date_crawled: 34\n",
      "last_seen: 34\n",
      "ad_created: 68\n"
     ]
    }
   ],
   "source": [
    "# Display number of unique dates for each column\n",
    "print(\"date_crawled:\", autos[\"date_crawled\"].str[:10].unique().shape[0])\n",
    "print(\"last_seen:\", autos[\"last_seen\"].str[:10].unique().shape[0])\n",
    "print(\"ad_created:\", autos[\"ad_created\"].str[:10].unique().shape[0])"
   ]
  },
  {
   "cell_type": "markdown",
   "metadata": {},
   "source": [
    "Let's check out the distribution of dates in chronological order."
   ]
  },
  {
   "cell_type": "code",
   "execution_count": 44,
   "metadata": {
    "collapsed": false,
    "scrolled": false
   },
   "outputs": [
    {
     "data": {
      "text/plain": [
       "2016-03-05    0.024947\n",
       "2016-03-06    0.014063\n",
       "2016-03-07    0.036283\n",
       "2016-03-08    0.034231\n",
       "2016-03-09    0.033805\n",
       "2016-03-10    0.032579\n",
       "2016-03-11    0.032079\n",
       "2016-03-12    0.037384\n",
       "2016-03-13    0.015014\n",
       "2016-03-14    0.037158\n",
       "2016-03-15    0.034006\n",
       "2016-03-16    0.029852\n",
       "2016-03-17    0.031954\n",
       "2016-03-18    0.013187\n",
       "2016-03-19    0.033580\n",
       "2016-03-20    0.037309\n",
       "2016-03-21    0.037534\n",
       "2016-03-22    0.032504\n",
       "2016-03-23    0.032654\n",
       "2016-03-24    0.029001\n",
       "2016-03-25    0.032629\n",
       "2016-03-26    0.032454\n",
       "2016-03-27    0.030928\n",
       "2016-03-28    0.034631\n",
       "2016-03-29    0.033830\n",
       "2016-03-30    0.033981\n",
       "2016-03-31    0.031779\n",
       "2016-04-01    0.033055\n",
       "2016-04-02    0.034706\n",
       "2016-04-03    0.038184\n",
       "2016-04-04    0.036733\n",
       "2016-04-05    0.013362\n",
       "2016-04-06    0.003453\n",
       "2016-04-07    0.001151\n",
       "Name: date_crawled, dtype: float64"
      ]
     },
     "execution_count": 44,
     "metadata": {},
     "output_type": "execute_result"
    }
   ],
   "source": [
    "(autos[\"date_crawled\"].str[:10]\n",
    " # normalize=True returns the proportion instead of count\n",
    " .value_counts(normalize=True)\n",
    " # sort the dates from earliest to latest\n",
    " .sort_index(ascending=True)\n",
    ")"
   ]
  },
  {
   "cell_type": "code",
   "execution_count": 45,
   "metadata": {
    "collapsed": false,
    "scrolled": false
   },
   "outputs": [
    {
     "data": {
      "text/plain": [
       "2016-03-05    0.001126\n",
       "2016-03-06    0.004804\n",
       "2016-03-07    0.006005\n",
       "2016-03-08    0.008558\n",
       "2016-03-09    0.010560\n",
       "2016-03-10    0.011210\n",
       "2016-03-11    0.013787\n",
       "2016-03-12    0.025598\n",
       "2016-03-13    0.009609\n",
       "2016-03-14    0.013412\n",
       "2016-03-15    0.016590\n",
       "2016-03-16    0.017441\n",
       "2016-03-17    0.029777\n",
       "2016-03-18    0.007507\n",
       "2016-03-19    0.016890\n",
       "2016-03-20    0.022020\n",
       "2016-03-21    0.021770\n",
       "2016-03-22    0.022370\n",
       "2016-03-23    0.019442\n",
       "2016-03-24    0.020844\n",
       "2016-03-25    0.020218\n",
       "2016-03-26    0.017666\n",
       "2016-03-27    0.016890\n",
       "2016-03-28    0.022045\n",
       "2016-03-29    0.023046\n",
       "2016-03-30    0.025448\n",
       "2016-03-31    0.024597\n",
       "2016-04-01    0.024222\n",
       "2016-04-02    0.025673\n",
       "2016-04-03    0.025623\n",
       "2016-04-04    0.025323\n",
       "2016-04-05    0.118457\n",
       "2016-04-06    0.209063\n",
       "2016-04-07    0.122410\n",
       "Name: last_seen, dtype: float64"
      ]
     },
     "execution_count": 45,
     "metadata": {},
     "output_type": "execute_result"
    }
   ],
   "source": [
    "(autos[\"last_seen\"].str[:10]\n",
    " # normalize=True returns the proportion instead of count\n",
    " .value_counts(normalize=True)\n",
    " # sort the dates from earliest to latest\n",
    " .sort_index(ascending=True)\n",
    ")"
   ]
  },
  {
   "cell_type": "code",
   "execution_count": 46,
   "metadata": {
    "collapsed": true
   },
   "outputs": [],
   "source": [
    "# Chronological list of dates in \"date_crawled\" column\n",
    "date_crawled_range = (\n",
    "    autos[\"date_crawled\"].str[:10]\n",
    "    .value_counts()\n",
    "    .sort_index(ascending=True)\n",
    "    .index\n",
    ")"
   ]
  },
  {
   "cell_type": "code",
   "execution_count": 47,
   "metadata": {
    "collapsed": true
   },
   "outputs": [],
   "source": [
    "# Chronological list of dates in \"last_seen\" column\n",
    "last_seen_range = (\n",
    "    autos[\"last_seen\"].str[:10]\n",
    "    .value_counts()\n",
    "    .sort_index(ascending=True)\n",
    "    .index\n",
    ")"
   ]
  },
  {
   "cell_type": "code",
   "execution_count": 48,
   "metadata": {
    "collapsed": false
   },
   "outputs": [
    {
     "data": {
      "text/plain": [
       "array([ True,  True,  True,  True,  True,  True,  True,  True,  True,\n",
       "        True,  True,  True,  True,  True,  True,  True,  True,  True,\n",
       "        True,  True,  True,  True,  True,  True,  True,  True,  True,\n",
       "        True,  True,  True,  True,  True,  True,  True])"
      ]
     },
     "execution_count": 48,
     "metadata": {},
     "output_type": "execute_result"
    }
   ],
   "source": [
    "# Compare date ranges of crawler\n",
    "date_crawled_range == last_seen_range"
   ]
  },
  {
   "cell_type": "markdown",
   "metadata": {},
   "source": [
    "The comparison above confirms that there are no errors in range of dates recorded by the crawler."
   ]
  },
  {
   "cell_type": "code",
   "execution_count": 49,
   "metadata": {
    "collapsed": false
   },
   "outputs": [
    {
     "data": {
      "text/plain": [
       "2016-04-03    0.038460\n",
       "2016-03-21    0.037659\n",
       "2016-03-20    0.037309\n",
       "2016-04-04    0.037259\n",
       "2016-03-12    0.037234\n",
       "2016-03-14    0.035607\n",
       "2016-03-07    0.035132\n",
       "2016-03-28    0.034606\n",
       "2016-04-02    0.034306\n",
       "2016-03-08    0.034206\n",
       "Name: ad_created, dtype: float64"
      ]
     },
     "execution_count": 49,
     "metadata": {},
     "output_type": "execute_result"
    }
   ],
   "source": [
    "# Display 10 most frequent dates in \"ad_created\" column\n",
    "(\n",
    "    autos[\"ad_created\"].str[:10]\n",
    "    .value_counts(normalize=True,ascending=False)\n",
    "    .head(10)\n",
    ")"
   ]
  },
  {
   "cell_type": "markdown",
   "metadata": {},
   "source": [
    "There does not appear to be a date that is greatly more frequent than any other in **\"ad_created\"**.  The most frequent date 2016-04-03 only accounts for 3.8% of the date range.\n",
    "\n",
    "## Registration Data\n",
    "Let's evaluate the **\"registration_month\"**, and **\"registration_year\"** columns for any irregulaties that should be cleaned."
   ]
  },
  {
   "cell_type": "code",
   "execution_count": 50,
   "metadata": {
    "collapsed": false,
    "scrolled": false
   },
   "outputs": [
    {
     "data": {
      "text/plain": [
       "0     4313\n",
       "1     2618\n",
       "2     2378\n",
       "3     3974\n",
       "4     3206\n",
       "5     3289\n",
       "6     3488\n",
       "7     3106\n",
       "8     2521\n",
       "9     2670\n",
       "10    2928\n",
       "11    2644\n",
       "12    2829\n",
       "Name: registration_month, dtype: int64"
      ]
     },
     "execution_count": 50,
     "metadata": {},
     "output_type": "execute_result"
    }
   ],
   "source": [
    "# Display counts for month in chronological order\n",
    "autos[\"registration_month\"].value_counts().sort_index(ascending=True)"
   ]
  },
  {
   "cell_type": "markdown",
   "metadata": {},
   "source": [
    "It is odd that some of the months were recorded as 0.  These could be explained as either:\n",
    "- Missing values.\n",
    "- Or, reporting errors by sellers\n",
    "\n",
    "Let's take a quick look at the summary stats for these rows to see if there is an obvious pattern."
   ]
  },
  {
   "cell_type": "code",
   "execution_count": 51,
   "metadata": {
    "collapsed": false
   },
   "outputs": [
    {
     "data": {
      "text/html": [
       "<div>\n",
       "<style scoped>\n",
       "    .dataframe tbody tr th:only-of-type {\n",
       "        vertical-align: middle;\n",
       "    }\n",
       "\n",
       "    .dataframe tbody tr th {\n",
       "        vertical-align: top;\n",
       "    }\n",
       "\n",
       "    .dataframe thead th {\n",
       "        text-align: right;\n",
       "    }\n",
       "</style>\n",
       "<table border=\"1\" class=\"dataframe\">\n",
       "  <thead>\n",
       "    <tr style=\"text-align: right;\">\n",
       "      <th></th>\n",
       "      <th>date_crawled</th>\n",
       "      <th>name</th>\n",
       "      <th>price</th>\n",
       "      <th>a_b_test</th>\n",
       "      <th>vehicle_type</th>\n",
       "      <th>registration_year</th>\n",
       "      <th>gearbox</th>\n",
       "      <th>power_PS</th>\n",
       "      <th>model</th>\n",
       "      <th>odometer_km</th>\n",
       "      <th>registration_month</th>\n",
       "      <th>fuel_type</th>\n",
       "      <th>brand</th>\n",
       "      <th>unrepaired_damage</th>\n",
       "      <th>ad_created</th>\n",
       "      <th>postal_code</th>\n",
       "      <th>last_seen</th>\n",
       "    </tr>\n",
       "  </thead>\n",
       "  <tbody>\n",
       "    <tr>\n",
       "      <th>count</th>\n",
       "      <td>4313</td>\n",
       "      <td>4313</td>\n",
       "      <td>4313.000000</td>\n",
       "      <td>4313</td>\n",
       "      <td>2786</td>\n",
       "      <td>4313.000000</td>\n",
       "      <td>4313</td>\n",
       "      <td>4313.000000</td>\n",
       "      <td>3614</td>\n",
       "      <td>4313.000000</td>\n",
       "      <td>4313.0</td>\n",
       "      <td>2864</td>\n",
       "      <td>4313</td>\n",
       "      <td>1804</td>\n",
       "      <td>4313</td>\n",
       "      <td>4313.000000</td>\n",
       "      <td>4313</td>\n",
       "    </tr>\n",
       "    <tr>\n",
       "      <th>unique</th>\n",
       "      <td>4294</td>\n",
       "      <td>4031</td>\n",
       "      <td>NaN</td>\n",
       "      <td>2</td>\n",
       "      <td>8</td>\n",
       "      <td>NaN</td>\n",
       "      <td>2</td>\n",
       "      <td>NaN</td>\n",
       "      <td>183</td>\n",
       "      <td>NaN</td>\n",
       "      <td>NaN</td>\n",
       "      <td>5</td>\n",
       "      <td>40</td>\n",
       "      <td>2</td>\n",
       "      <td>40</td>\n",
       "      <td>NaN</td>\n",
       "      <td>4204</td>\n",
       "    </tr>\n",
       "    <tr>\n",
       "      <th>top</th>\n",
       "      <td>2016-03-21 16:37:21</td>\n",
       "      <td>Renault_Twingo</td>\n",
       "      <td>NaN</td>\n",
       "      <td>test</td>\n",
       "      <td>kleinwagen</td>\n",
       "      <td>NaN</td>\n",
       "      <td>manuell</td>\n",
       "      <td>NaN</td>\n",
       "      <td>golf</td>\n",
       "      <td>NaN</td>\n",
       "      <td>NaN</td>\n",
       "      <td>benzin</td>\n",
       "      <td>volkswagen</td>\n",
       "      <td>nein</td>\n",
       "      <td>2016-03-21 00:00:00</td>\n",
       "      <td>NaN</td>\n",
       "      <td>2016-04-05 17:26:26</td>\n",
       "    </tr>\n",
       "    <tr>\n",
       "      <th>freq</th>\n",
       "      <td>2</td>\n",
       "      <td>14</td>\n",
       "      <td>NaN</td>\n",
       "      <td>2233</td>\n",
       "      <td>840</td>\n",
       "      <td>NaN</td>\n",
       "      <td>3821</td>\n",
       "      <td>NaN</td>\n",
       "      <td>402</td>\n",
       "      <td>NaN</td>\n",
       "      <td>NaN</td>\n",
       "      <td>2199</td>\n",
       "      <td>1105</td>\n",
       "      <td>1171</td>\n",
       "      <td>168</td>\n",
       "      <td>NaN</td>\n",
       "      <td>3</td>\n",
       "    </tr>\n",
       "    <tr>\n",
       "      <th>mean</th>\n",
       "      <td>NaN</td>\n",
       "      <td>NaN</td>\n",
       "      <td>1797.414561</td>\n",
       "      <td>NaN</td>\n",
       "      <td>NaN</td>\n",
       "      <td>2001.641317</td>\n",
       "      <td>NaN</td>\n",
       "      <td>70.355205</td>\n",
       "      <td>NaN</td>\n",
       "      <td>144789.009970</td>\n",
       "      <td>0.0</td>\n",
       "      <td>NaN</td>\n",
       "      <td>NaN</td>\n",
       "      <td>NaN</td>\n",
       "      <td>NaN</td>\n",
       "      <td>48098.472989</td>\n",
       "      <td>NaN</td>\n",
       "    </tr>\n",
       "    <tr>\n",
       "      <th>std</th>\n",
       "      <td>NaN</td>\n",
       "      <td>NaN</td>\n",
       "      <td>2395.728697</td>\n",
       "      <td>NaN</td>\n",
       "      <td>NaN</td>\n",
       "      <td>8.978666</td>\n",
       "      <td>NaN</td>\n",
       "      <td>85.998716</td>\n",
       "      <td>NaN</td>\n",
       "      <td>14106.078367</td>\n",
       "      <td>0.0</td>\n",
       "      <td>NaN</td>\n",
       "      <td>NaN</td>\n",
       "      <td>NaN</td>\n",
       "      <td>NaN</td>\n",
       "      <td>25849.241639</td>\n",
       "      <td>NaN</td>\n",
       "    </tr>\n",
       "    <tr>\n",
       "      <th>min</th>\n",
       "      <td>NaN</td>\n",
       "      <td>NaN</td>\n",
       "      <td>0.000000</td>\n",
       "      <td>NaN</td>\n",
       "      <td>NaN</td>\n",
       "      <td>1910.000000</td>\n",
       "      <td>NaN</td>\n",
       "      <td>0.000000</td>\n",
       "      <td>NaN</td>\n",
       "      <td>90000.000000</td>\n",
       "      <td>0.0</td>\n",
       "      <td>NaN</td>\n",
       "      <td>NaN</td>\n",
       "      <td>NaN</td>\n",
       "      <td>NaN</td>\n",
       "      <td>1067.000000</td>\n",
       "      <td>NaN</td>\n",
       "    </tr>\n",
       "    <tr>\n",
       "      <th>25%</th>\n",
       "      <td>NaN</td>\n",
       "      <td>NaN</td>\n",
       "      <td>350.000000</td>\n",
       "      <td>NaN</td>\n",
       "      <td>NaN</td>\n",
       "      <td>1997.000000</td>\n",
       "      <td>NaN</td>\n",
       "      <td>0.000000</td>\n",
       "      <td>NaN</td>\n",
       "      <td>150000.000000</td>\n",
       "      <td>0.0</td>\n",
       "      <td>NaN</td>\n",
       "      <td>NaN</td>\n",
       "      <td>NaN</td>\n",
       "      <td>NaN</td>\n",
       "      <td>26919.000000</td>\n",
       "      <td>NaN</td>\n",
       "    </tr>\n",
       "    <tr>\n",
       "      <th>50%</th>\n",
       "      <td>NaN</td>\n",
       "      <td>NaN</td>\n",
       "      <td>950.000000</td>\n",
       "      <td>NaN</td>\n",
       "      <td>NaN</td>\n",
       "      <td>2000.000000</td>\n",
       "      <td>NaN</td>\n",
       "      <td>65.000000</td>\n",
       "      <td>NaN</td>\n",
       "      <td>150000.000000</td>\n",
       "      <td>0.0</td>\n",
       "      <td>NaN</td>\n",
       "      <td>NaN</td>\n",
       "      <td>NaN</td>\n",
       "      <td>NaN</td>\n",
       "      <td>46238.000000</td>\n",
       "      <td>NaN</td>\n",
       "    </tr>\n",
       "    <tr>\n",
       "      <th>75%</th>\n",
       "      <td>NaN</td>\n",
       "      <td>NaN</td>\n",
       "      <td>2200.000000</td>\n",
       "      <td>NaN</td>\n",
       "      <td>NaN</td>\n",
       "      <td>2005.000000</td>\n",
       "      <td>NaN</td>\n",
       "      <td>115.000000</td>\n",
       "      <td>NaN</td>\n",
       "      <td>150000.000000</td>\n",
       "      <td>0.0</td>\n",
       "      <td>NaN</td>\n",
       "      <td>NaN</td>\n",
       "      <td>NaN</td>\n",
       "      <td>NaN</td>\n",
       "      <td>66538.000000</td>\n",
       "      <td>NaN</td>\n",
       "    </tr>\n",
       "    <tr>\n",
       "      <th>max</th>\n",
       "      <td>NaN</td>\n",
       "      <td>NaN</td>\n",
       "      <td>16000.000000</td>\n",
       "      <td>NaN</td>\n",
       "      <td>NaN</td>\n",
       "      <td>2019.000000</td>\n",
       "      <td>NaN</td>\n",
       "      <td>1998.000000</td>\n",
       "      <td>NaN</td>\n",
       "      <td>150000.000000</td>\n",
       "      <td>0.0</td>\n",
       "      <td>NaN</td>\n",
       "      <td>NaN</td>\n",
       "      <td>NaN</td>\n",
       "      <td>NaN</td>\n",
       "      <td>99974.000000</td>\n",
       "      <td>NaN</td>\n",
       "    </tr>\n",
       "  </tbody>\n",
       "</table>\n",
       "</div>"
      ],
      "text/plain": [
       "               date_crawled            name         price a_b_test  \\\n",
       "count                  4313            4313   4313.000000     4313   \n",
       "unique                 4294            4031           NaN        2   \n",
       "top     2016-03-21 16:37:21  Renault_Twingo           NaN     test   \n",
       "freq                      2              14           NaN     2233   \n",
       "mean                    NaN             NaN   1797.414561      NaN   \n",
       "std                     NaN             NaN   2395.728697      NaN   \n",
       "min                     NaN             NaN      0.000000      NaN   \n",
       "25%                     NaN             NaN    350.000000      NaN   \n",
       "50%                     NaN             NaN    950.000000      NaN   \n",
       "75%                     NaN             NaN   2200.000000      NaN   \n",
       "max                     NaN             NaN  16000.000000      NaN   \n",
       "\n",
       "       vehicle_type  registration_year  gearbox     power_PS model  \\\n",
       "count          2786        4313.000000     4313  4313.000000  3614   \n",
       "unique            8                NaN        2          NaN   183   \n",
       "top      kleinwagen                NaN  manuell          NaN  golf   \n",
       "freq            840                NaN     3821          NaN   402   \n",
       "mean            NaN        2001.641317      NaN    70.355205   NaN   \n",
       "std             NaN           8.978666      NaN    85.998716   NaN   \n",
       "min             NaN        1910.000000      NaN     0.000000   NaN   \n",
       "25%             NaN        1997.000000      NaN     0.000000   NaN   \n",
       "50%             NaN        2000.000000      NaN    65.000000   NaN   \n",
       "75%             NaN        2005.000000      NaN   115.000000   NaN   \n",
       "max             NaN        2019.000000      NaN  1998.000000   NaN   \n",
       "\n",
       "          odometer_km  registration_month fuel_type       brand  \\\n",
       "count     4313.000000              4313.0      2864        4313   \n",
       "unique            NaN                 NaN         5          40   \n",
       "top               NaN                 NaN    benzin  volkswagen   \n",
       "freq              NaN                 NaN      2199        1105   \n",
       "mean    144789.009970                 0.0       NaN         NaN   \n",
       "std      14106.078367                 0.0       NaN         NaN   \n",
       "min      90000.000000                 0.0       NaN         NaN   \n",
       "25%     150000.000000                 0.0       NaN         NaN   \n",
       "50%     150000.000000                 0.0       NaN         NaN   \n",
       "75%     150000.000000                 0.0       NaN         NaN   \n",
       "max     150000.000000                 0.0       NaN         NaN   \n",
       "\n",
       "       unrepaired_damage           ad_created   postal_code  \\\n",
       "count               1804                 4313   4313.000000   \n",
       "unique                 2                   40           NaN   \n",
       "top                 nein  2016-03-21 00:00:00           NaN   \n",
       "freq                1171                  168           NaN   \n",
       "mean                 NaN                  NaN  48098.472989   \n",
       "std                  NaN                  NaN  25849.241639   \n",
       "min                  NaN                  NaN   1067.000000   \n",
       "25%                  NaN                  NaN  26919.000000   \n",
       "50%                  NaN                  NaN  46238.000000   \n",
       "75%                  NaN                  NaN  66538.000000   \n",
       "max                  NaN                  NaN  99974.000000   \n",
       "\n",
       "                  last_seen  \n",
       "count                  4313  \n",
       "unique                 4204  \n",
       "top     2016-04-05 17:26:26  \n",
       "freq                      3  \n",
       "mean                    NaN  \n",
       "std                     NaN  \n",
       "min                     NaN  \n",
       "25%                     NaN  \n",
       "50%                     NaN  \n",
       "75%                     NaN  \n",
       "max                     NaN  "
      ]
     },
     "execution_count": 51,
     "metadata": {},
     "output_type": "execute_result"
    }
   ],
   "source": [
    "autos.loc[autos[\"registration_month\"] == 0, :].describe(include='all')"
   ]
  },
  {
   "cell_type": "markdown",
   "metadata": {},
   "source": [
    "Upon a quick inspection, we do not see a discernable pattern for these entries. Let's remove thse rows since 0 is not a valid month."
   ]
  },
  {
   "cell_type": "code",
   "execution_count": 52,
   "metadata": {
    "collapsed": true
   },
   "outputs": [],
   "source": [
    "# List indices of rows with month 0\n",
    "month_zero = autos.loc[autos[\"registration_month\"] == 0, :].index\n",
    "\n",
    "# Pass the list as the index parameter to drop these rows\n",
    "autos = autos.drop(index = month_zero)"
   ]
  },
  {
   "cell_type": "markdown",
   "metadata": {},
   "source": [
    "Let's take a look at **\"registration_year\"**."
   ]
  },
  {
   "cell_type": "code",
   "execution_count": 53,
   "metadata": {
    "collapsed": false
   },
   "outputs": [
    {
     "data": {
      "text/plain": [
       "count    35651.000000\n",
       "mean      2002.800146\n",
       "std         37.608276\n",
       "min       1934.000000\n",
       "25%       1999.000000\n",
       "50%       2003.000000\n",
       "75%       2006.000000\n",
       "max       9000.000000\n",
       "Name: registration_year, dtype: float64"
      ]
     },
     "execution_count": 53,
     "metadata": {},
     "output_type": "execute_result"
    }
   ],
   "source": [
    "autos[\"registration_year\"].describe()"
   ]
  },
  {
   "cell_type": "code",
   "execution_count": 54,
   "metadata": {
    "collapsed": false
   },
   "outputs": [
    {
     "data": {
      "text/plain": [
       "9000      1\n",
       "2019      1\n",
       "2018    328\n",
       "2017    952\n",
       "2016    840\n",
       "Name: registration_year, dtype: int64"
      ]
     },
     "execution_count": 54,
     "metadata": {},
     "output_type": "execute_result"
    }
   ],
   "source": [
    "# Counts of the five latest registration years\n",
    "(\n",
    "    autos[\"registration_year\"]\n",
    "    .value_counts()\n",
    "    .sort_index(ascending=False)\n",
    "    .head()\n",
    ")"
   ]
  },
  {
   "cell_type": "markdown",
   "metadata": {},
   "source": [
    "Seeing as this data was scraped in 2016, there should not be any cars registered after this year in the dataset. We can confidently say that these rows should be removed."
   ]
  },
  {
   "cell_type": "code",
   "execution_count": 55,
   "metadata": {
    "collapsed": true
   },
   "outputs": [],
   "source": [
    "# List indices for rows with registration years after 2016\n",
    "impossible_year = (\n",
    "    autos.loc[(autos[\"registration_year\"] > 2016) == True, :]\n",
    "    .index\n",
    ")"
   ]
  },
  {
   "cell_type": "code",
   "execution_count": 56,
   "metadata": {
    "collapsed": true
   },
   "outputs": [],
   "source": [
    "# Drop offending rows\n",
    "autos = autos.drop(index = impossible_year)"
   ]
  },
  {
   "cell_type": "code",
   "execution_count": 57,
   "metadata": {
    "collapsed": false,
    "scrolled": true
   },
   "outputs": [
    {
     "data": {
      "text/plain": [
       "1999    0.074573\n",
       "2000    0.073933\n",
       "2005    0.071896\n",
       "2004    0.070354\n",
       "2003    0.069889\n",
       "2001    0.067474\n",
       "2006    0.066077\n",
       "2002    0.064419\n",
       "1998    0.058687\n",
       "2007    0.053217\n",
       "Name: registration_year, dtype: float64"
      ]
     },
     "execution_count": 57,
     "metadata": {},
     "output_type": "execute_result"
    }
   ],
   "source": [
    "# Ten most frequent registration years by proportion\n",
    "(\n",
    "    autos[\"registration_year\"].value_counts(normalize=True)\n",
    "    .head(10)\n",
    ")"
   ]
  },
  {
   "cell_type": "markdown",
   "metadata": {},
   "source": [
    "The ten most frequent registration years are within the two decades preceding 2016. This makes sense, as we would not expect many cars that are much older to still be on the market."
   ]
  },
  {
   "cell_type": "markdown",
   "metadata": {},
   "source": [
    "## Exploring Price by Brand\n",
    "We can use aggregation to filter the rows by brand to see the average price for each. First, let's bring up a quick summary of the **\"brand\"** column."
   ]
  },
  {
   "cell_type": "code",
   "execution_count": 58,
   "metadata": {
    "collapsed": false
   },
   "outputs": [
    {
     "data": {
      "text/plain": [
       "count          34369\n",
       "unique            40\n",
       "top       volkswagen\n",
       "freq            7467\n",
       "Name: brand, dtype: object"
      ]
     },
     "execution_count": 58,
     "metadata": {},
     "output_type": "execute_result"
    }
   ],
   "source": [
    "autos[\"brand\"].describe()"
   ]
  },
  {
   "cell_type": "markdown",
   "metadata": {},
   "source": [
    "Instead of evaluating all 40 brands, let's set a threshold of five percent. We will investigate any brands that make up at least 5% of the sample.\n",
    "\n",
    "Let's create a dictionary that with brand names as keys. The value for each key is the corresponding proportion for that brand."
   ]
  },
  {
   "cell_type": "code",
   "execution_count": 59,
   "metadata": {
    "collapsed": false
   },
   "outputs": [],
   "source": [
    "# Dictionary with brand name keys, values are corresponding proportion\n",
    "brand_pct = dict(autos[\"brand\"].value_counts(normalize=True))"
   ]
  },
  {
   "cell_type": "markdown",
   "metadata": {},
   "source": [
    "Then, we can create a list for the brands that are at least 5% of the sample. We iterate over the dictionary and only add brands that meet this condition."
   ]
  },
  {
   "cell_type": "code",
   "execution_count": 60,
   "metadata": {
    "collapsed": false
   },
   "outputs": [],
   "source": [
    "# List for brand names that meet the condition\n",
    "brands = []\n",
    "\n",
    "# Iterate over the key, value pairs in the dictionary\n",
    "for key, value in brand_pct.items():\n",
    "    \n",
    "    # Add brand name to the list if the condition is met\n",
    "    if value >= 0.05:\n",
    "        brands.append(key[:])"
   ]
  },
  {
   "cell_type": "code",
   "execution_count": 61,
   "metadata": {
    "collapsed": false
   },
   "outputs": [
    {
     "data": {
      "text/plain": [
       "['volkswagen', 'bmw', 'opel', 'mercedes_benz', 'audi', 'ford', 'renault']"
      ]
     },
     "execution_count": 61,
     "metadata": {},
     "output_type": "execute_result"
    }
   ],
   "source": [
    "brands"
   ]
  },
  {
   "cell_type": "markdown",
   "metadata": {},
   "source": [
    "We can see that, with the exception of Ford and Renault, the most popular brands in this sample are all German. Now that we have narrowed down the brands, let's calculate the average price for each."
   ]
  },
  {
   "cell_type": "code",
   "execution_count": 62,
   "metadata": {
    "collapsed": true
   },
   "outputs": [],
   "source": [
    "# Create dictionary using list of brands to name the keys\n",
    "avg_price_by_brand = dict.fromkeys(brands)\n",
    "\n",
    "# Iterate over the list\n",
    "for name in brands:\n",
    "    # Filter DataFrame by rows for each brand\n",
    "    brand_prices = autos.loc[autos[\"brand\"] == name, \"price\"]\n",
    "    \n",
    "    # Compute average price for this brand, rounded to 2 decimal places\n",
    "    brand_avg_price = round(brand_prices.mean(), 2)\n",
    "    \n",
    "    # Assign average price to corresponding dictionary key\n",
    "    avg_price_by_brand[name] = brand_avg_price"
   ]
  },
  {
   "cell_type": "code",
   "execution_count": 63,
   "metadata": {
    "collapsed": false
   },
   "outputs": [
    {
     "data": {
      "text/plain": [
       "[('bmw', 5574.63),\n",
       " ('audi', 5479.94),\n",
       " ('mercedes_benz', 5097.99),\n",
       " ('volkswagen', 3833.64),\n",
       " ('ford', 2529.18),\n",
       " ('opel', 2321.8),\n",
       " ('renault', 1851.22)]"
      ]
     },
     "execution_count": 63,
     "metadata": {},
     "output_type": "execute_result"
    }
   ],
   "source": [
    "# Return dictionary entries, sorted by avg price in descending order\n",
    "sorted(avg_price_by_brand.items(), key=lambda x:x[1], reverse=True)"
   ]
  },
  {
   "cell_type": "markdown",
   "metadata": {},
   "source": [
    "The three most expensive brands are BMW, Audi, and Mercedes Benz. These are typically considered luxury brands, which could be a factor in their pricing."
   ]
  },
  {
   "cell_type": "markdown",
   "metadata": {},
   "source": [
    "## Aggregating Mileage and Price by Brand\n",
    "Brand alone is not the only determining factor of a car's value. Let's compare the average mileage by brand to see if there is a connection to the price.\n",
    "\n",
    "We will accomplish this by creating a new DataFrame with:\n",
    "- Top brand names for row indices.\n",
    "- Columns for average price and average odometer_km.\n",
    "\n",
    "Here are our steps to create the DataFrame:\n",
    "- Create dictionaries with brand names as keys, averages as values.\n",
    "- Convert these dictionaries to Pandas Series objects.\n",
    "- Create Pandas DataFrame with each Series as a column.\n",
    "\n",
    "We already have a dictionary of the popular brands and their average price: *avg_price_by_brand*. We can use this dictionary to create the first Series and column of the DataFrame."
   ]
  },
  {
   "cell_type": "code",
   "execution_count": 64,
   "metadata": {
    "collapsed": true
   },
   "outputs": [],
   "source": [
    "# Use average price dictionary to build Series\n",
    "avg_price_series = pd.Series(avg_price_by_brand)"
   ]
  },
  {
   "cell_type": "code",
   "execution_count": 65,
   "metadata": {
    "collapsed": true
   },
   "outputs": [],
   "source": [
    "# Create Dataframe\n",
    "price_vs_km = pd.DataFrame(avg_price_series, columns = [\"mean_price\"])"
   ]
  },
  {
   "cell_type": "code",
   "execution_count": 66,
   "metadata": {
    "collapsed": false
   },
   "outputs": [
    {
     "data": {
      "text/html": [
       "<div>\n",
       "<style scoped>\n",
       "    .dataframe tbody tr th:only-of-type {\n",
       "        vertical-align: middle;\n",
       "    }\n",
       "\n",
       "    .dataframe tbody tr th {\n",
       "        vertical-align: top;\n",
       "    }\n",
       "\n",
       "    .dataframe thead th {\n",
       "        text-align: right;\n",
       "    }\n",
       "</style>\n",
       "<table border=\"1\" class=\"dataframe\">\n",
       "  <thead>\n",
       "    <tr style=\"text-align: right;\">\n",
       "      <th></th>\n",
       "      <th>mean_price</th>\n",
       "    </tr>\n",
       "  </thead>\n",
       "  <tbody>\n",
       "    <tr>\n",
       "      <th>volkswagen</th>\n",
       "      <td>3833.64</td>\n",
       "    </tr>\n",
       "    <tr>\n",
       "      <th>bmw</th>\n",
       "      <td>5574.63</td>\n",
       "    </tr>\n",
       "    <tr>\n",
       "      <th>opel</th>\n",
       "      <td>2321.80</td>\n",
       "    </tr>\n",
       "    <tr>\n",
       "      <th>mercedes_benz</th>\n",
       "      <td>5097.99</td>\n",
       "    </tr>\n",
       "    <tr>\n",
       "      <th>audi</th>\n",
       "      <td>5479.94</td>\n",
       "    </tr>\n",
       "    <tr>\n",
       "      <th>ford</th>\n",
       "      <td>2529.18</td>\n",
       "    </tr>\n",
       "    <tr>\n",
       "      <th>renault</th>\n",
       "      <td>1851.22</td>\n",
       "    </tr>\n",
       "  </tbody>\n",
       "</table>\n",
       "</div>"
      ],
      "text/plain": [
       "               mean_price\n",
       "volkswagen        3833.64\n",
       "bmw               5574.63\n",
       "opel              2321.80\n",
       "mercedes_benz     5097.99\n",
       "audi              5479.94\n",
       "ford              2529.18\n",
       "renault           1851.22"
      ]
     },
     "execution_count": 66,
     "metadata": {},
     "output_type": "execute_result"
    }
   ],
   "source": [
    "# Our DataFrame so far\n",
    "price_vs_km"
   ]
  },
  {
   "cell_type": "markdown",
   "metadata": {},
   "source": [
    "Here is what our DataFrame looks like so far. Let's proceed to generate the next column."
   ]
  },
  {
   "cell_type": "code",
   "execution_count": 67,
   "metadata": {
    "collapsed": true
   },
   "outputs": [],
   "source": [
    "# Dictionary for average \"odometer_km\" by brand, using brand names as keys\n",
    "avg_km_by_brand = dict.fromkeys(brands)\n",
    "\n",
    "# Iterate over the list\n",
    "for name in brands:\n",
    "    # Filter DataFrame by rows for each brand\n",
    "    brand_km = autos.loc[autos[\"brand\"] == name, \"odometer_km\"]\n",
    "    \n",
    "    # Compute average odometer_km for this brand, rounded to nearest integer\n",
    "    brand_avg_km = round(brand_km.mean())\n",
    "    \n",
    "    # Assign average price to corresponding dictionary key\n",
    "    avg_km_by_brand[name] = brand_avg_km"
   ]
  },
  {
   "cell_type": "code",
   "execution_count": 68,
   "metadata": {
    "collapsed": false
   },
   "outputs": [
    {
     "data": {
      "text/html": [
       "<div>\n",
       "<style scoped>\n",
       "    .dataframe tbody tr th:only-of-type {\n",
       "        vertical-align: middle;\n",
       "    }\n",
       "\n",
       "    .dataframe tbody tr th {\n",
       "        vertical-align: top;\n",
       "    }\n",
       "\n",
       "    .dataframe thead th {\n",
       "        text-align: right;\n",
       "    }\n",
       "</style>\n",
       "<table border=\"1\" class=\"dataframe\">\n",
       "  <thead>\n",
       "    <tr style=\"text-align: right;\">\n",
       "      <th></th>\n",
       "      <th>mean_price</th>\n",
       "      <th>mean_odometer_km</th>\n",
       "    </tr>\n",
       "  </thead>\n",
       "  <tbody>\n",
       "    <tr>\n",
       "      <th>volkswagen</th>\n",
       "      <td>3833.64</td>\n",
       "      <td>143357</td>\n",
       "    </tr>\n",
       "    <tr>\n",
       "      <th>bmw</th>\n",
       "      <td>5574.63</td>\n",
       "      <td>144622</td>\n",
       "    </tr>\n",
       "    <tr>\n",
       "      <th>opel</th>\n",
       "      <td>2321.80</td>\n",
       "      <td>141694</td>\n",
       "    </tr>\n",
       "    <tr>\n",
       "      <th>mercedes_benz</th>\n",
       "      <td>5097.99</td>\n",
       "      <td>144819</td>\n",
       "    </tr>\n",
       "    <tr>\n",
       "      <th>audi</th>\n",
       "      <td>5479.94</td>\n",
       "      <td>145722</td>\n",
       "    </tr>\n",
       "    <tr>\n",
       "      <th>ford</th>\n",
       "      <td>2529.18</td>\n",
       "      <td>140546</td>\n",
       "    </tr>\n",
       "    <tr>\n",
       "      <th>renault</th>\n",
       "      <td>1851.22</td>\n",
       "      <td>140474</td>\n",
       "    </tr>\n",
       "  </tbody>\n",
       "</table>\n",
       "</div>"
      ],
      "text/plain": [
       "               mean_price  mean_odometer_km\n",
       "volkswagen        3833.64            143357\n",
       "bmw               5574.63            144622\n",
       "opel              2321.80            141694\n",
       "mercedes_benz     5097.99            144819\n",
       "audi              5479.94            145722\n",
       "ford              2529.18            140546\n",
       "renault           1851.22            140474"
      ]
     },
     "execution_count": 68,
     "metadata": {},
     "output_type": "execute_result"
    }
   ],
   "source": [
    "# Create Series from the avg_km_by_brand dictionary, with values as integers\n",
    "avg_km_series = pd.Series(avg_km_by_brand, dtype=int)\n",
    "\n",
    "# Add the Series to the DataFrame as a new column\n",
    "price_vs_km[\"mean_odometer_km\"] = avg_km_series\n",
    "\n",
    "# Display the completed DataFrame\n",
    "price_vs_km"
   ]
  },
  {
   "cell_type": "markdown",
   "metadata": {},
   "source": [
    "Now that our DataFrame is complete, let's evaluate the summary statistics."
   ]
  },
  {
   "cell_type": "code",
   "execution_count": 69,
   "metadata": {
    "collapsed": false
   },
   "outputs": [
    {
     "data": {
      "text/plain": [
       "count         7.000000\n",
       "mean     143033.428571\n",
       "std        2143.866589\n",
       "min      140474.000000\n",
       "25%      141120.000000\n",
       "50%      143357.000000\n",
       "75%      144720.500000\n",
       "max      145722.000000\n",
       "Name: mean_odometer_km, dtype: float64"
      ]
     },
     "execution_count": 69,
     "metadata": {},
     "output_type": "execute_result"
    }
   ],
   "source": [
    "price_vs_km[\"mean_odometer_km\"].describe()"
   ]
  },
  {
   "cell_type": "markdown",
   "metadata": {},
   "source": [
    "The low standard deviation indicates that there is not much variation in the average odometer reading. Let's see which brands correspond to the maximum and minimum average odometer."
   ]
  },
  {
   "cell_type": "code",
   "execution_count": 70,
   "metadata": {
    "collapsed": false
   },
   "outputs": [
    {
     "data": {
      "text/html": [
       "<div>\n",
       "<style scoped>\n",
       "    .dataframe tbody tr th:only-of-type {\n",
       "        vertical-align: middle;\n",
       "    }\n",
       "\n",
       "    .dataframe tbody tr th {\n",
       "        vertical-align: top;\n",
       "    }\n",
       "\n",
       "    .dataframe thead th {\n",
       "        text-align: right;\n",
       "    }\n",
       "</style>\n",
       "<table border=\"1\" class=\"dataframe\">\n",
       "  <thead>\n",
       "    <tr style=\"text-align: right;\">\n",
       "      <th></th>\n",
       "      <th>mean_price</th>\n",
       "      <th>mean_odometer_km</th>\n",
       "    </tr>\n",
       "  </thead>\n",
       "  <tbody>\n",
       "    <tr>\n",
       "      <th>audi</th>\n",
       "      <td>5479.94</td>\n",
       "      <td>145722</td>\n",
       "    </tr>\n",
       "  </tbody>\n",
       "</table>\n",
       "</div>"
      ],
      "text/plain": [
       "      mean_price  mean_odometer_km\n",
       "audi     5479.94            145722"
      ]
     },
     "execution_count": 70,
     "metadata": {},
     "output_type": "execute_result"
    }
   ],
   "source": [
    "# Variable to store max of \"mean_odometer_km\"\n",
    "max_mean_km = price_vs_km[\"mean_odometer_km\"].max()\n",
    "\n",
    "# Display row for brand with max\n",
    "price_vs_km.loc[price_vs_km[\"mean_odometer_km\"] == max_mean_km, :]"
   ]
  },
  {
   "cell_type": "code",
   "execution_count": 71,
   "metadata": {
    "collapsed": false
   },
   "outputs": [
    {
     "data": {
      "text/html": [
       "<div>\n",
       "<style scoped>\n",
       "    .dataframe tbody tr th:only-of-type {\n",
       "        vertical-align: middle;\n",
       "    }\n",
       "\n",
       "    .dataframe tbody tr th {\n",
       "        vertical-align: top;\n",
       "    }\n",
       "\n",
       "    .dataframe thead th {\n",
       "        text-align: right;\n",
       "    }\n",
       "</style>\n",
       "<table border=\"1\" class=\"dataframe\">\n",
       "  <thead>\n",
       "    <tr style=\"text-align: right;\">\n",
       "      <th></th>\n",
       "      <th>mean_price</th>\n",
       "      <th>mean_odometer_km</th>\n",
       "    </tr>\n",
       "  </thead>\n",
       "  <tbody>\n",
       "    <tr>\n",
       "      <th>renault</th>\n",
       "      <td>1851.22</td>\n",
       "      <td>140474</td>\n",
       "    </tr>\n",
       "  </tbody>\n",
       "</table>\n",
       "</div>"
      ],
      "text/plain": [
       "         mean_price  mean_odometer_km\n",
       "renault     1851.22            140474"
      ]
     },
     "execution_count": 71,
     "metadata": {},
     "output_type": "execute_result"
    }
   ],
   "source": [
    "# Variable to store min of \"mean_odometer_km\"\n",
    "min_mean_km = price_vs_km[\"mean_odometer_km\"].min()\n",
    "\n",
    "# Display row for brand with max\n",
    "price_vs_km.loc[price_vs_km[\"mean_odometer_km\"] == min_mean_km, :]"
   ]
  },
  {
   "cell_type": "markdown",
   "metadata": {},
   "source": [
    "That's interesting! We can see that the brand with the lowest average odometer, Renault, is also the least expensive. Furthermore, the highest average odometer corresponds to Audi, the second most expensive brand in our sample. There does not appear to be a strong correlation between price and the odometer.\n",
    "\n",
    "## Translate German Categorical Data\n",
    "Earlier, we have seen German text appear in the following columns: \"vehicle_type\", \"gearbox\", \"fuel_type\", \"unrepaired_damage\". These are good candidates for translation. We can exclude the following because they contain proper nouns: \"name\", \"brand\", and \"model\".\n",
    "\n",
    "Here are the steps we will take to translate the text:\n",
    "- Identify unique values for each column.\n",
    "- Create dictionaries with German keys, English translations as values\n",
    "- Use the dictionaries to map the translations to the DataFrame\n",
    "\n",
    "### Identify Unique Values"
   ]
  },
  {
   "cell_type": "code",
   "execution_count": 72,
   "metadata": {
    "collapsed": true
   },
   "outputs": [],
   "source": [
    "# Create lists of unique values for each column, excluding missing values (NaN)\n",
    "vehicle_type_unique = list(autos.loc[autos[\"vehicle_type\"].notna() == True, \"vehicle_type\"].unique())\n",
    "gearbox_unique = list(autos.loc[autos[\"gearbox\"].notna() == True, \"gearbox\"].unique())\n",
    "fuel_type_unique = list(autos.loc[autos[\"fuel_type\"].notna() == True, \"fuel_type\"].unique())"
   ]
  },
  {
   "cell_type": "code",
   "execution_count": 73,
   "metadata": {
    "collapsed": false
   },
   "outputs": [
    {
     "data": {
      "text/plain": [
       "['bus', 'limousine', 'kombi', 'kleinwagen', 'coupe', 'suv', 'cabrio', 'andere']"
      ]
     },
     "execution_count": 73,
     "metadata": {},
     "output_type": "execute_result"
    }
   ],
   "source": [
    "vehicle_type_unique"
   ]
  },
  {
   "cell_type": "code",
   "execution_count": 74,
   "metadata": {
    "collapsed": false
   },
   "outputs": [
    {
     "data": {
      "text/plain": [
       "['manuell', 'automatik']"
      ]
     },
     "execution_count": 74,
     "metadata": {},
     "output_type": "execute_result"
    }
   ],
   "source": [
    "gearbox_unique"
   ]
  },
  {
   "cell_type": "code",
   "execution_count": 75,
   "metadata": {
    "collapsed": false
   },
   "outputs": [
    {
     "data": {
      "text/plain": [
       "['lpg', 'benzin', 'diesel', 'cng', 'hybrid', 'andere', 'elektro']"
      ]
     },
     "execution_count": 75,
     "metadata": {},
     "output_type": "execute_result"
    }
   ],
   "source": [
    "fuel_type_unique"
   ]
  },
  {
   "cell_type": "markdown",
   "metadata": {},
   "source": [
    "We can see that some of the words are abbreviations (\"lpg\", \"cng\", \"suv\"). We will capitalize the abbreviations when we translate. Other words are the same in English, so we will leave those alone.\n",
    "\n",
    "### Create Mapping Dictionaries\n",
    "When we create these dictionaries, it is important that the keys are exactly as they appear in the data."
   ]
  },
  {
   "cell_type": "code",
   "execution_count": 76,
   "metadata": {
    "collapsed": true
   },
   "outputs": [],
   "source": [
    "# Create dictionaries with translations for each key\n",
    "vehicle_type_eng = {\n",
    "    \"bus\": \"bus\",\n",
    "    \"limousine\": \"limousine\",\n",
    "    \"kombi\": \"station wagon\",\n",
    "    \"kleinwagen\": \"small car\",\n",
    "    \"coupe\": \"coupe\",\n",
    "    \"suv\": \"SUV\",\n",
    "    \"cabrio\": \"cabrio\",\n",
    "    \"andere\": \"other\"\n",
    "}\n",
    "\n",
    "gearbox_eng = {\n",
    "    \"manuell\": \"manual\",\n",
    "    \"automatik\": \"automatic\"\n",
    "}\n",
    "\n",
    "fuel_type_eng = {\n",
    "    \"lpg\": \"LPG\",\n",
    "    \"benzin\": \"gasoline\",\n",
    "    \"diesel\": \"diesel\",\n",
    "    \"cng\": \"CNG\",\n",
    "    \"hybrid\": \"hybrid\",\n",
    "    \"andere\": \"other\",\n",
    "    \"elektro\": \"electro\"\n",
    "}"
   ]
  },
  {
   "cell_type": "markdown",
   "metadata": {},
   "source": [
    "### Apply Translations to DataFrame\n",
    "Now that we have the translations, let's set these changes in our DataFrame."
   ]
  },
  {
   "cell_type": "code",
   "execution_count": 77,
   "metadata": {
    "collapsed": true
   },
   "outputs": [],
   "source": [
    "# Apply changes to each column\n",
    "autos[\"vehicle_type\"] = autos[\"vehicle_type\"].map(vehicle_type_eng)\n",
    "autos[\"gearbox\"] = autos[\"gearbox\"].map(gearbox_eng)\n",
    "autos[\"fuel_type\"] = autos[\"fuel_type\"].map(fuel_type_eng)"
   ]
  },
  {
   "cell_type": "code",
   "execution_count": 78,
   "metadata": {
    "collapsed": false
   },
   "outputs": [
    {
     "name": "stdout",
     "output_type": "stream",
     "text": [
      "['bus', 'limousine', 'station wagon', nan, 'small car', 'coupe', 'SUV', 'cabrio', 'other']\n",
      "['manual', 'automatic']\n",
      "['LPG', 'gasoline', 'diesel', nan, 'CNG', 'hybrid', 'other', 'electro']\n"
     ]
    }
   ],
   "source": [
    "print(list(autos[\"vehicle_type\"].unique()))\n",
    "print(list(autos[\"gearbox\"].unique()))\n",
    "print(list(autos[\"fuel_type\"].unique()))"
   ]
  },
  {
   "cell_type": "markdown",
   "metadata": {},
   "source": [
    "We have succesfully translated these values!"
   ]
  },
  {
   "cell_type": "markdown",
   "metadata": {},
   "source": [
    "## Conclusion\n",
    "In summary, here is what we have accomplished in this project:\n",
    "- Corrected an encoding error while importing a CSV.\n",
    "- Changed column names.\n",
    "- Removed columns.\n",
    "- Filled missing values.\n",
    "- Converted strings to numbers.\n",
    "- Identified and removed outliers.\n",
    "- Performed substring operations.\n",
    "- Removed rows.\n",
    "- Aggregated data.\n",
    "- Created a new DataFrame from aggregate data.\n",
    "- Replaced values by mapping dictionaries."
   ]
  }
 ],
 "metadata": {
  "kernelspec": {
   "display_name": "Python 3",
   "language": "python",
   "name": "python3"
  },
  "language_info": {
   "codemirror_mode": {
    "name": "ipython",
    "version": 3
   },
   "file_extension": ".py",
   "mimetype": "text/x-python",
   "name": "python",
   "nbconvert_exporter": "python",
   "pygments_lexer": "ipython3",
   "version": "3.6.5"
  }
 },
 "nbformat": 4,
 "nbformat_minor": 2
}
